{
 "cells": [
  {
   "cell_type": "code",
   "execution_count": 1,
   "metadata": {
    "id": "uqPG96Hiq3-0"
   },
   "outputs": [],
   "source": [
    "import pandas as pd\n",
    "import numpy as np"
   ]
  },
  {
   "cell_type": "code",
   "execution_count": 2,
   "metadata": {
    "id": "N1NkeV4uq8IE"
   },
   "outputs": [],
   "source": [
    "data=pd.read_excel(\"/content/Main Data Set.xlsx\")"
   ]
  },
  {
   "cell_type": "code",
   "execution_count": 3,
   "metadata": {
    "colab": {
     "base_uri": "https://localhost:8080/",
     "height": 300
    },
    "id": "8-P5uc4VrO0H",
    "outputId": "13cd4e33-4fe1-478e-a21c-9ac13b368a22"
   },
   "outputs": [
    {
     "data": {
      "text/html": [
       "\n",
       "  <div id=\"df-c9b1405a-ec51-460d-9208-17e19893c36e\">\n",
       "    <div class=\"colab-df-container\">\n",
       "      <div>\n",
       "<style scoped>\n",
       "    .dataframe tbody tr th:only-of-type {\n",
       "        vertical-align: middle;\n",
       "    }\n",
       "\n",
       "    .dataframe tbody tr th {\n",
       "        vertical-align: top;\n",
       "    }\n",
       "\n",
       "    .dataframe thead th {\n",
       "        text-align: right;\n",
       "    }\n",
       "</style>\n",
       "<table border=\"1\" class=\"dataframe\">\n",
       "  <thead>\n",
       "    <tr style=\"text-align: right;\">\n",
       "      <th></th>\n",
       "      <th>0</th>\n",
       "      <th>1</th>\n",
       "      <th>2</th>\n",
       "      <th>3</th>\n",
       "      <th>4</th>\n",
       "      <th>5</th>\n",
       "      <th>6</th>\n",
       "      <th>7</th>\n",
       "      <th>8</th>\n",
       "      <th>9</th>\n",
       "      <th>...</th>\n",
       "      <th>31</th>\n",
       "      <th>32</th>\n",
       "      <th>33</th>\n",
       "      <th>34</th>\n",
       "      <th>35</th>\n",
       "      <th>36</th>\n",
       "      <th>37</th>\n",
       "      <th>38</th>\n",
       "      <th>gender</th>\n",
       "      <th>label</th>\n",
       "    </tr>\n",
       "  </thead>\n",
       "  <tbody>\n",
       "    <tr>\n",
       "      <th>0</th>\n",
       "      <td>-371.82810</td>\n",
       "      <td>108.49565</td>\n",
       "      <td>11.329577</td>\n",
       "      <td>22.444440</td>\n",
       "      <td>22.374722</td>\n",
       "      <td>5.689639</td>\n",
       "      <td>-5.820382</td>\n",
       "      <td>-1.952239</td>\n",
       "      <td>-16.463146</td>\n",
       "      <td>6.061418</td>\n",
       "      <td>...</td>\n",
       "      <td>-2.383272</td>\n",
       "      <td>-1.047149</td>\n",
       "      <td>-5.113010</td>\n",
       "      <td>-3.650117</td>\n",
       "      <td>-3.092591</td>\n",
       "      <td>-1.955777</td>\n",
       "      <td>-4.405060</td>\n",
       "      <td>-4.580990</td>\n",
       "      <td>male</td>\n",
       "      <td>adult</td>\n",
       "    </tr>\n",
       "    <tr>\n",
       "      <th>1</th>\n",
       "      <td>-399.31082</td>\n",
       "      <td>112.92151</td>\n",
       "      <td>6.919172</td>\n",
       "      <td>21.663918</td>\n",
       "      <td>18.155872</td>\n",
       "      <td>7.181758</td>\n",
       "      <td>-1.518631</td>\n",
       "      <td>0.581832</td>\n",
       "      <td>-18.784006</td>\n",
       "      <td>3.909678</td>\n",
       "      <td>...</td>\n",
       "      <td>-1.837900</td>\n",
       "      <td>-0.798910</td>\n",
       "      <td>-4.694558</td>\n",
       "      <td>-4.464447</td>\n",
       "      <td>-1.893085</td>\n",
       "      <td>-2.912510</td>\n",
       "      <td>-4.858458</td>\n",
       "      <td>-4.174491</td>\n",
       "      <td>male</td>\n",
       "      <td>adult</td>\n",
       "    </tr>\n",
       "    <tr>\n",
       "      <th>2</th>\n",
       "      <td>-367.67980</td>\n",
       "      <td>100.84446</td>\n",
       "      <td>0.920031</td>\n",
       "      <td>23.759985</td>\n",
       "      <td>9.670633</td>\n",
       "      <td>1.539028</td>\n",
       "      <td>-6.678311</td>\n",
       "      <td>-0.632159</td>\n",
       "      <td>-19.383781</td>\n",
       "      <td>8.799910</td>\n",
       "      <td>...</td>\n",
       "      <td>-2.202147</td>\n",
       "      <td>-0.537667</td>\n",
       "      <td>-3.844402</td>\n",
       "      <td>-2.821896</td>\n",
       "      <td>-2.086511</td>\n",
       "      <td>-2.610275</td>\n",
       "      <td>-4.089844</td>\n",
       "      <td>-5.701215</td>\n",
       "      <td>male</td>\n",
       "      <td>adult</td>\n",
       "    </tr>\n",
       "    <tr>\n",
       "      <th>3</th>\n",
       "      <td>-355.13303</td>\n",
       "      <td>101.86148</td>\n",
       "      <td>0.237188</td>\n",
       "      <td>32.159462</td>\n",
       "      <td>22.914465</td>\n",
       "      <td>3.906355</td>\n",
       "      <td>-5.871533</td>\n",
       "      <td>-1.297926</td>\n",
       "      <td>-20.633438</td>\n",
       "      <td>7.027359</td>\n",
       "      <td>...</td>\n",
       "      <td>-1.725350</td>\n",
       "      <td>-0.643298</td>\n",
       "      <td>-3.470233</td>\n",
       "      <td>-2.856177</td>\n",
       "      <td>-2.057140</td>\n",
       "      <td>-1.870503</td>\n",
       "      <td>-4.755356</td>\n",
       "      <td>-4.600479</td>\n",
       "      <td>male</td>\n",
       "      <td>adult</td>\n",
       "    </tr>\n",
       "    <tr>\n",
       "      <th>4</th>\n",
       "      <td>-425.16406</td>\n",
       "      <td>129.03656</td>\n",
       "      <td>0.186828</td>\n",
       "      <td>16.686668</td>\n",
       "      <td>23.938263</td>\n",
       "      <td>10.088806</td>\n",
       "      <td>-2.028934</td>\n",
       "      <td>-2.977077</td>\n",
       "      <td>-19.282000</td>\n",
       "      <td>3.621475</td>\n",
       "      <td>...</td>\n",
       "      <td>-3.425826</td>\n",
       "      <td>0.476763</td>\n",
       "      <td>-4.416140</td>\n",
       "      <td>-2.720565</td>\n",
       "      <td>-2.072952</td>\n",
       "      <td>-1.341345</td>\n",
       "      <td>-5.566973</td>\n",
       "      <td>-4.696309</td>\n",
       "      <td>male</td>\n",
       "      <td>adult</td>\n",
       "    </tr>\n",
       "  </tbody>\n",
       "</table>\n",
       "<p>5 rows × 41 columns</p>\n",
       "</div>\n",
       "      <button class=\"colab-df-convert\" onclick=\"convertToInteractive('df-c9b1405a-ec51-460d-9208-17e19893c36e')\"\n",
       "              title=\"Convert this dataframe to an interactive table.\"\n",
       "              style=\"display:none;\">\n",
       "        \n",
       "  <svg xmlns=\"http://www.w3.org/2000/svg\" height=\"24px\"viewBox=\"0 0 24 24\"\n",
       "       width=\"24px\">\n",
       "    <path d=\"M0 0h24v24H0V0z\" fill=\"none\"/>\n",
       "    <path d=\"M18.56 5.44l.94 2.06.94-2.06 2.06-.94-2.06-.94-.94-2.06-.94 2.06-2.06.94zm-11 1L8.5 8.5l.94-2.06 2.06-.94-2.06-.94L8.5 2.5l-.94 2.06-2.06.94zm10 10l.94 2.06.94-2.06 2.06-.94-2.06-.94-.94-2.06-.94 2.06-2.06.94z\"/><path d=\"M17.41 7.96l-1.37-1.37c-.4-.4-.92-.59-1.43-.59-.52 0-1.04.2-1.43.59L10.3 9.45l-7.72 7.72c-.78.78-.78 2.05 0 2.83L4 21.41c.39.39.9.59 1.41.59.51 0 1.02-.2 1.41-.59l7.78-7.78 2.81-2.81c.8-.78.8-2.07 0-2.86zM5.41 20L4 18.59l7.72-7.72 1.47 1.35L5.41 20z\"/>\n",
       "  </svg>\n",
       "      </button>\n",
       "      \n",
       "  <style>\n",
       "    .colab-df-container {\n",
       "      display:flex;\n",
       "      flex-wrap:wrap;\n",
       "      gap: 12px;\n",
       "    }\n",
       "\n",
       "    .colab-df-convert {\n",
       "      background-color: #E8F0FE;\n",
       "      border: none;\n",
       "      border-radius: 50%;\n",
       "      cursor: pointer;\n",
       "      display: none;\n",
       "      fill: #1967D2;\n",
       "      height: 32px;\n",
       "      padding: 0 0 0 0;\n",
       "      width: 32px;\n",
       "    }\n",
       "\n",
       "    .colab-df-convert:hover {\n",
       "      background-color: #E2EBFA;\n",
       "      box-shadow: 0px 1px 2px rgba(60, 64, 67, 0.3), 0px 1px 3px 1px rgba(60, 64, 67, 0.15);\n",
       "      fill: #174EA6;\n",
       "    }\n",
       "\n",
       "    [theme=dark] .colab-df-convert {\n",
       "      background-color: #3B4455;\n",
       "      fill: #D2E3FC;\n",
       "    }\n",
       "\n",
       "    [theme=dark] .colab-df-convert:hover {\n",
       "      background-color: #434B5C;\n",
       "      box-shadow: 0px 1px 3px 1px rgba(0, 0, 0, 0.15);\n",
       "      filter: drop-shadow(0px 1px 2px rgba(0, 0, 0, 0.3));\n",
       "      fill: #FFFFFF;\n",
       "    }\n",
       "  </style>\n",
       "\n",
       "      <script>\n",
       "        const buttonEl =\n",
       "          document.querySelector('#df-c9b1405a-ec51-460d-9208-17e19893c36e button.colab-df-convert');\n",
       "        buttonEl.style.display =\n",
       "          google.colab.kernel.accessAllowed ? 'block' : 'none';\n",
       "\n",
       "        async function convertToInteractive(key) {\n",
       "          const element = document.querySelector('#df-c9b1405a-ec51-460d-9208-17e19893c36e');\n",
       "          const dataTable =\n",
       "            await google.colab.kernel.invokeFunction('convertToInteractive',\n",
       "                                                     [key], {});\n",
       "          if (!dataTable) return;\n",
       "\n",
       "          const docLinkHtml = 'Like what you see? Visit the ' +\n",
       "            '<a target=\"_blank\" href=https://colab.research.google.com/notebooks/data_table.ipynb>data table notebook</a>'\n",
       "            + ' to learn more about interactive tables.';\n",
       "          element.innerHTML = '';\n",
       "          dataTable['output_type'] = 'display_data';\n",
       "          await google.colab.output.renderOutput(dataTable, element);\n",
       "          const docLink = document.createElement('div');\n",
       "          docLink.innerHTML = docLinkHtml;\n",
       "          element.appendChild(docLink);\n",
       "        }\n",
       "      </script>\n",
       "    </div>\n",
       "  </div>\n",
       "  "
      ],
      "text/plain": [
       "           0          1          2          3          4          5         6  \\\n",
       "0 -371.82810  108.49565  11.329577  22.444440  22.374722   5.689639 -5.820382   \n",
       "1 -399.31082  112.92151   6.919172  21.663918  18.155872   7.181758 -1.518631   \n",
       "2 -367.67980  100.84446   0.920031  23.759985   9.670633   1.539028 -6.678311   \n",
       "3 -355.13303  101.86148   0.237188  32.159462  22.914465   3.906355 -5.871533   \n",
       "4 -425.16406  129.03656   0.186828  16.686668  23.938263  10.088806 -2.028934   \n",
       "\n",
       "          7          8         9  ...        31        32        33        34  \\\n",
       "0 -1.952239 -16.463146  6.061418  ... -2.383272 -1.047149 -5.113010 -3.650117   \n",
       "1  0.581832 -18.784006  3.909678  ... -1.837900 -0.798910 -4.694558 -4.464447   \n",
       "2 -0.632159 -19.383781  8.799910  ... -2.202147 -0.537667 -3.844402 -2.821896   \n",
       "3 -1.297926 -20.633438  7.027359  ... -1.725350 -0.643298 -3.470233 -2.856177   \n",
       "4 -2.977077 -19.282000  3.621475  ... -3.425826  0.476763 -4.416140 -2.720565   \n",
       "\n",
       "         35        36        37        38  gender  label  \n",
       "0 -3.092591 -1.955777 -4.405060 -4.580990    male  adult  \n",
       "1 -1.893085 -2.912510 -4.858458 -4.174491    male  adult  \n",
       "2 -2.086511 -2.610275 -4.089844 -5.701215    male  adult  \n",
       "3 -2.057140 -1.870503 -4.755356 -4.600479    male  adult  \n",
       "4 -2.072952 -1.341345 -5.566973 -4.696309    male  adult  \n",
       "\n",
       "[5 rows x 41 columns]"
      ]
     },
     "execution_count": 3,
     "metadata": {},
     "output_type": "execute_result"
    }
   ],
   "source": [
    "data.head()"
   ]
  },
  {
   "cell_type": "code",
   "execution_count": 4,
   "metadata": {
    "colab": {
     "base_uri": "https://localhost:8080/"
    },
    "id": "fziSF4yArQw9",
    "outputId": "7c3be273-7114-4394-f87a-05a07622f718"
   },
   "outputs": [
    {
     "data": {
      "text/plain": [
       "0         0\n",
       "1         0\n",
       "2         0\n",
       "3         0\n",
       "4         0\n",
       "5         0\n",
       "6         0\n",
       "7         0\n",
       "8         0\n",
       "9         0\n",
       "10        0\n",
       "11        0\n",
       "12        0\n",
       "13        0\n",
       "14        0\n",
       "15        0\n",
       "16        0\n",
       "17        0\n",
       "18        0\n",
       "19        0\n",
       "20        0\n",
       "21        0\n",
       "22        0\n",
       "23        0\n",
       "24        0\n",
       "25        0\n",
       "26        0\n",
       "27        0\n",
       "28        0\n",
       "29        0\n",
       "30        0\n",
       "31        0\n",
       "32        0\n",
       "33        0\n",
       "34        0\n",
       "35        0\n",
       "36        0\n",
       "37        0\n",
       "38        0\n",
       "gender    0\n",
       "label     0\n",
       "dtype: int64"
      ]
     },
     "execution_count": 4,
     "metadata": {},
     "output_type": "execute_result"
    }
   ],
   "source": [
    "data.isnull().sum()"
   ]
  },
  {
   "cell_type": "code",
   "execution_count": 5,
   "metadata": {
    "colab": {
     "base_uri": "https://localhost:8080/",
     "height": 488
    },
    "id": "NJRUXKYurS4c",
    "outputId": "fbdc24e6-1284-42f4-a1c5-119218894f8d"
   },
   "outputs": [
    {
     "data": {
      "text/html": [
       "\n",
       "  <div id=\"df-4b17fedc-2c42-4421-a423-dda563bcd096\">\n",
       "    <div class=\"colab-df-container\">\n",
       "      <div>\n",
       "<style scoped>\n",
       "    .dataframe tbody tr th:only-of-type {\n",
       "        vertical-align: middle;\n",
       "    }\n",
       "\n",
       "    .dataframe tbody tr th {\n",
       "        vertical-align: top;\n",
       "    }\n",
       "\n",
       "    .dataframe thead th {\n",
       "        text-align: right;\n",
       "    }\n",
       "</style>\n",
       "<table border=\"1\" class=\"dataframe\">\n",
       "  <thead>\n",
       "    <tr style=\"text-align: right;\">\n",
       "      <th></th>\n",
       "      <th>0</th>\n",
       "      <th>1</th>\n",
       "      <th>2</th>\n",
       "      <th>3</th>\n",
       "      <th>4</th>\n",
       "      <th>5</th>\n",
       "      <th>6</th>\n",
       "      <th>7</th>\n",
       "      <th>8</th>\n",
       "      <th>9</th>\n",
       "      <th>...</th>\n",
       "      <th>29</th>\n",
       "      <th>30</th>\n",
       "      <th>31</th>\n",
       "      <th>32</th>\n",
       "      <th>33</th>\n",
       "      <th>34</th>\n",
       "      <th>35</th>\n",
       "      <th>36</th>\n",
       "      <th>37</th>\n",
       "      <th>38</th>\n",
       "    </tr>\n",
       "  </thead>\n",
       "  <tbody>\n",
       "    <tr>\n",
       "      <th>0</th>\n",
       "      <td>-371.82810</td>\n",
       "      <td>108.495650</td>\n",
       "      <td>11.329577</td>\n",
       "      <td>22.444440</td>\n",
       "      <td>22.374722</td>\n",
       "      <td>5.689639</td>\n",
       "      <td>-5.820382</td>\n",
       "      <td>-1.952239</td>\n",
       "      <td>-16.463146</td>\n",
       "      <td>6.061418</td>\n",
       "      <td>...</td>\n",
       "      <td>-0.184623</td>\n",
       "      <td>-2.057550</td>\n",
       "      <td>-2.383272</td>\n",
       "      <td>-1.047149</td>\n",
       "      <td>-5.113010</td>\n",
       "      <td>-3.650117</td>\n",
       "      <td>-3.092591</td>\n",
       "      <td>-1.955777</td>\n",
       "      <td>-4.405060</td>\n",
       "      <td>-4.580990</td>\n",
       "    </tr>\n",
       "    <tr>\n",
       "      <th>1</th>\n",
       "      <td>-399.31082</td>\n",
       "      <td>112.921510</td>\n",
       "      <td>6.919172</td>\n",
       "      <td>21.663918</td>\n",
       "      <td>18.155872</td>\n",
       "      <td>7.181758</td>\n",
       "      <td>-1.518631</td>\n",
       "      <td>0.581832</td>\n",
       "      <td>-18.784006</td>\n",
       "      <td>3.909678</td>\n",
       "      <td>...</td>\n",
       "      <td>-0.946463</td>\n",
       "      <td>-0.529916</td>\n",
       "      <td>-1.837900</td>\n",
       "      <td>-0.798910</td>\n",
       "      <td>-4.694558</td>\n",
       "      <td>-4.464447</td>\n",
       "      <td>-1.893085</td>\n",
       "      <td>-2.912510</td>\n",
       "      <td>-4.858458</td>\n",
       "      <td>-4.174491</td>\n",
       "    </tr>\n",
       "    <tr>\n",
       "      <th>2</th>\n",
       "      <td>-367.67980</td>\n",
       "      <td>100.844460</td>\n",
       "      <td>0.920031</td>\n",
       "      <td>23.759985</td>\n",
       "      <td>9.670633</td>\n",
       "      <td>1.539028</td>\n",
       "      <td>-6.678311</td>\n",
       "      <td>-0.632159</td>\n",
       "      <td>-19.383781</td>\n",
       "      <td>8.799910</td>\n",
       "      <td>...</td>\n",
       "      <td>1.907667</td>\n",
       "      <td>-1.688837</td>\n",
       "      <td>-2.202147</td>\n",
       "      <td>-0.537667</td>\n",
       "      <td>-3.844402</td>\n",
       "      <td>-2.821896</td>\n",
       "      <td>-2.086511</td>\n",
       "      <td>-2.610275</td>\n",
       "      <td>-4.089844</td>\n",
       "      <td>-5.701215</td>\n",
       "    </tr>\n",
       "    <tr>\n",
       "      <th>3</th>\n",
       "      <td>-355.13303</td>\n",
       "      <td>101.861480</td>\n",
       "      <td>0.237188</td>\n",
       "      <td>32.159462</td>\n",
       "      <td>22.914465</td>\n",
       "      <td>3.906355</td>\n",
       "      <td>-5.871533</td>\n",
       "      <td>-1.297926</td>\n",
       "      <td>-20.633438</td>\n",
       "      <td>7.027359</td>\n",
       "      <td>...</td>\n",
       "      <td>1.061948</td>\n",
       "      <td>-3.341648</td>\n",
       "      <td>-1.725350</td>\n",
       "      <td>-0.643298</td>\n",
       "      <td>-3.470233</td>\n",
       "      <td>-2.856177</td>\n",
       "      <td>-2.057140</td>\n",
       "      <td>-1.870503</td>\n",
       "      <td>-4.755356</td>\n",
       "      <td>-4.600479</td>\n",
       "    </tr>\n",
       "    <tr>\n",
       "      <th>4</th>\n",
       "      <td>-425.16406</td>\n",
       "      <td>129.036560</td>\n",
       "      <td>0.186828</td>\n",
       "      <td>16.686668</td>\n",
       "      <td>23.938263</td>\n",
       "      <td>10.088806</td>\n",
       "      <td>-2.028934</td>\n",
       "      <td>-2.977077</td>\n",
       "      <td>-19.282000</td>\n",
       "      <td>3.621475</td>\n",
       "      <td>...</td>\n",
       "      <td>0.215418</td>\n",
       "      <td>0.484430</td>\n",
       "      <td>-3.425826</td>\n",
       "      <td>0.476763</td>\n",
       "      <td>-4.416140</td>\n",
       "      <td>-2.720565</td>\n",
       "      <td>-2.072952</td>\n",
       "      <td>-1.341345</td>\n",
       "      <td>-5.566973</td>\n",
       "      <td>-4.696309</td>\n",
       "    </tr>\n",
       "    <tr>\n",
       "      <th>...</th>\n",
       "      <td>...</td>\n",
       "      <td>...</td>\n",
       "      <td>...</td>\n",
       "      <td>...</td>\n",
       "      <td>...</td>\n",
       "      <td>...</td>\n",
       "      <td>...</td>\n",
       "      <td>...</td>\n",
       "      <td>...</td>\n",
       "      <td>...</td>\n",
       "      <td>...</td>\n",
       "      <td>...</td>\n",
       "      <td>...</td>\n",
       "      <td>...</td>\n",
       "      <td>...</td>\n",
       "      <td>...</td>\n",
       "      <td>...</td>\n",
       "      <td>...</td>\n",
       "      <td>...</td>\n",
       "      <td>...</td>\n",
       "      <td>...</td>\n",
       "    </tr>\n",
       "    <tr>\n",
       "      <th>2995</th>\n",
       "      <td>-330.74442</td>\n",
       "      <td>119.453470</td>\n",
       "      <td>-28.931398</td>\n",
       "      <td>16.431282</td>\n",
       "      <td>-25.923940</td>\n",
       "      <td>-22.580963</td>\n",
       "      <td>-18.477665</td>\n",
       "      <td>-22.479776</td>\n",
       "      <td>0.922552</td>\n",
       "      <td>-7.602468</td>\n",
       "      <td>...</td>\n",
       "      <td>-2.470063</td>\n",
       "      <td>4.421223</td>\n",
       "      <td>0.742409</td>\n",
       "      <td>-3.576027</td>\n",
       "      <td>-1.591279</td>\n",
       "      <td>-3.515108</td>\n",
       "      <td>-3.029455</td>\n",
       "      <td>-3.592587</td>\n",
       "      <td>-2.900054</td>\n",
       "      <td>0.754864</td>\n",
       "    </tr>\n",
       "    <tr>\n",
       "      <th>2996</th>\n",
       "      <td>-313.88834</td>\n",
       "      <td>99.268030</td>\n",
       "      <td>-26.273092</td>\n",
       "      <td>4.311078</td>\n",
       "      <td>-19.713417</td>\n",
       "      <td>-18.493284</td>\n",
       "      <td>-15.861244</td>\n",
       "      <td>-10.180239</td>\n",
       "      <td>-4.867939</td>\n",
       "      <td>-0.662536</td>\n",
       "      <td>...</td>\n",
       "      <td>-2.227642</td>\n",
       "      <td>0.605481</td>\n",
       "      <td>1.392444</td>\n",
       "      <td>-0.948494</td>\n",
       "      <td>-3.438912</td>\n",
       "      <td>0.659637</td>\n",
       "      <td>-0.903038</td>\n",
       "      <td>-1.892453</td>\n",
       "      <td>-2.112316</td>\n",
       "      <td>-1.224023</td>\n",
       "    </tr>\n",
       "    <tr>\n",
       "      <th>2997</th>\n",
       "      <td>-324.29977</td>\n",
       "      <td>129.237520</td>\n",
       "      <td>-33.933000</td>\n",
       "      <td>11.158257</td>\n",
       "      <td>-17.881138</td>\n",
       "      <td>-26.475191</td>\n",
       "      <td>-13.977830</td>\n",
       "      <td>-16.337875</td>\n",
       "      <td>-0.353709</td>\n",
       "      <td>-4.651527</td>\n",
       "      <td>...</td>\n",
       "      <td>-0.028793</td>\n",
       "      <td>3.763042</td>\n",
       "      <td>1.154832</td>\n",
       "      <td>-4.393998</td>\n",
       "      <td>-5.090885</td>\n",
       "      <td>-2.760841</td>\n",
       "      <td>-1.561349</td>\n",
       "      <td>-3.028061</td>\n",
       "      <td>-4.226657</td>\n",
       "      <td>3.758476</td>\n",
       "    </tr>\n",
       "    <tr>\n",
       "      <th>2998</th>\n",
       "      <td>-352.44968</td>\n",
       "      <td>148.348430</td>\n",
       "      <td>-32.924522</td>\n",
       "      <td>6.316973</td>\n",
       "      <td>-8.765810</td>\n",
       "      <td>-28.446260</td>\n",
       "      <td>-14.844326</td>\n",
       "      <td>-19.795837</td>\n",
       "      <td>-4.025840</td>\n",
       "      <td>-4.273027</td>\n",
       "      <td>...</td>\n",
       "      <td>-3.241732</td>\n",
       "      <td>-0.987353</td>\n",
       "      <td>0.961699</td>\n",
       "      <td>-3.170674</td>\n",
       "      <td>-4.107362</td>\n",
       "      <td>-6.001142</td>\n",
       "      <td>-4.654924</td>\n",
       "      <td>-3.437292</td>\n",
       "      <td>-3.550606</td>\n",
       "      <td>-0.757205</td>\n",
       "    </tr>\n",
       "    <tr>\n",
       "      <th>2999</th>\n",
       "      <td>-354.54044</td>\n",
       "      <td>97.072136</td>\n",
       "      <td>-24.854030</td>\n",
       "      <td>9.664994</td>\n",
       "      <td>-23.980673</td>\n",
       "      <td>-14.894958</td>\n",
       "      <td>-15.025388</td>\n",
       "      <td>-19.491266</td>\n",
       "      <td>-0.536067</td>\n",
       "      <td>-6.233265</td>\n",
       "      <td>...</td>\n",
       "      <td>-2.224442</td>\n",
       "      <td>2.073195</td>\n",
       "      <td>3.516302</td>\n",
       "      <td>-1.918456</td>\n",
       "      <td>-0.355499</td>\n",
       "      <td>-1.424978</td>\n",
       "      <td>-2.336957</td>\n",
       "      <td>-1.454762</td>\n",
       "      <td>-6.149889</td>\n",
       "      <td>0.243947</td>\n",
       "    </tr>\n",
       "  </tbody>\n",
       "</table>\n",
       "<p>3000 rows × 39 columns</p>\n",
       "</div>\n",
       "      <button class=\"colab-df-convert\" onclick=\"convertToInteractive('df-4b17fedc-2c42-4421-a423-dda563bcd096')\"\n",
       "              title=\"Convert this dataframe to an interactive table.\"\n",
       "              style=\"display:none;\">\n",
       "        \n",
       "  <svg xmlns=\"http://www.w3.org/2000/svg\" height=\"24px\"viewBox=\"0 0 24 24\"\n",
       "       width=\"24px\">\n",
       "    <path d=\"M0 0h24v24H0V0z\" fill=\"none\"/>\n",
       "    <path d=\"M18.56 5.44l.94 2.06.94-2.06 2.06-.94-2.06-.94-.94-2.06-.94 2.06-2.06.94zm-11 1L8.5 8.5l.94-2.06 2.06-.94-2.06-.94L8.5 2.5l-.94 2.06-2.06.94zm10 10l.94 2.06.94-2.06 2.06-.94-2.06-.94-.94-2.06-.94 2.06-2.06.94z\"/><path d=\"M17.41 7.96l-1.37-1.37c-.4-.4-.92-.59-1.43-.59-.52 0-1.04.2-1.43.59L10.3 9.45l-7.72 7.72c-.78.78-.78 2.05 0 2.83L4 21.41c.39.39.9.59 1.41.59.51 0 1.02-.2 1.41-.59l7.78-7.78 2.81-2.81c.8-.78.8-2.07 0-2.86zM5.41 20L4 18.59l7.72-7.72 1.47 1.35L5.41 20z\"/>\n",
       "  </svg>\n",
       "      </button>\n",
       "      \n",
       "  <style>\n",
       "    .colab-df-container {\n",
       "      display:flex;\n",
       "      flex-wrap:wrap;\n",
       "      gap: 12px;\n",
       "    }\n",
       "\n",
       "    .colab-df-convert {\n",
       "      background-color: #E8F0FE;\n",
       "      border: none;\n",
       "      border-radius: 50%;\n",
       "      cursor: pointer;\n",
       "      display: none;\n",
       "      fill: #1967D2;\n",
       "      height: 32px;\n",
       "      padding: 0 0 0 0;\n",
       "      width: 32px;\n",
       "    }\n",
       "\n",
       "    .colab-df-convert:hover {\n",
       "      background-color: #E2EBFA;\n",
       "      box-shadow: 0px 1px 2px rgba(60, 64, 67, 0.3), 0px 1px 3px 1px rgba(60, 64, 67, 0.15);\n",
       "      fill: #174EA6;\n",
       "    }\n",
       "\n",
       "    [theme=dark] .colab-df-convert {\n",
       "      background-color: #3B4455;\n",
       "      fill: #D2E3FC;\n",
       "    }\n",
       "\n",
       "    [theme=dark] .colab-df-convert:hover {\n",
       "      background-color: #434B5C;\n",
       "      box-shadow: 0px 1px 3px 1px rgba(0, 0, 0, 0.15);\n",
       "      filter: drop-shadow(0px 1px 2px rgba(0, 0, 0, 0.3));\n",
       "      fill: #FFFFFF;\n",
       "    }\n",
       "  </style>\n",
       "\n",
       "      <script>\n",
       "        const buttonEl =\n",
       "          document.querySelector('#df-4b17fedc-2c42-4421-a423-dda563bcd096 button.colab-df-convert');\n",
       "        buttonEl.style.display =\n",
       "          google.colab.kernel.accessAllowed ? 'block' : 'none';\n",
       "\n",
       "        async function convertToInteractive(key) {\n",
       "          const element = document.querySelector('#df-4b17fedc-2c42-4421-a423-dda563bcd096');\n",
       "          const dataTable =\n",
       "            await google.colab.kernel.invokeFunction('convertToInteractive',\n",
       "                                                     [key], {});\n",
       "          if (!dataTable) return;\n",
       "\n",
       "          const docLinkHtml = 'Like what you see? Visit the ' +\n",
       "            '<a target=\"_blank\" href=https://colab.research.google.com/notebooks/data_table.ipynb>data table notebook</a>'\n",
       "            + ' to learn more about interactive tables.';\n",
       "          element.innerHTML = '';\n",
       "          dataTable['output_type'] = 'display_data';\n",
       "          await google.colab.output.renderOutput(dataTable, element);\n",
       "          const docLink = document.createElement('div');\n",
       "          docLink.innerHTML = docLinkHtml;\n",
       "          element.appendChild(docLink);\n",
       "        }\n",
       "      </script>\n",
       "    </div>\n",
       "  </div>\n",
       "  "
      ],
      "text/plain": [
       "             0           1          2          3          4          5   \\\n",
       "0    -371.82810  108.495650  11.329577  22.444440  22.374722   5.689639   \n",
       "1    -399.31082  112.921510   6.919172  21.663918  18.155872   7.181758   \n",
       "2    -367.67980  100.844460   0.920031  23.759985   9.670633   1.539028   \n",
       "3    -355.13303  101.861480   0.237188  32.159462  22.914465   3.906355   \n",
       "4    -425.16406  129.036560   0.186828  16.686668  23.938263  10.088806   \n",
       "...         ...         ...        ...        ...        ...        ...   \n",
       "2995 -330.74442  119.453470 -28.931398  16.431282 -25.923940 -22.580963   \n",
       "2996 -313.88834   99.268030 -26.273092   4.311078 -19.713417 -18.493284   \n",
       "2997 -324.29977  129.237520 -33.933000  11.158257 -17.881138 -26.475191   \n",
       "2998 -352.44968  148.348430 -32.924522   6.316973  -8.765810 -28.446260   \n",
       "2999 -354.54044   97.072136 -24.854030   9.664994 -23.980673 -14.894958   \n",
       "\n",
       "             6          7          8         9   ...        29        30  \\\n",
       "0     -5.820382  -1.952239 -16.463146  6.061418  ... -0.184623 -2.057550   \n",
       "1     -1.518631   0.581832 -18.784006  3.909678  ... -0.946463 -0.529916   \n",
       "2     -6.678311  -0.632159 -19.383781  8.799910  ...  1.907667 -1.688837   \n",
       "3     -5.871533  -1.297926 -20.633438  7.027359  ...  1.061948 -3.341648   \n",
       "4     -2.028934  -2.977077 -19.282000  3.621475  ...  0.215418  0.484430   \n",
       "...         ...        ...        ...       ...  ...       ...       ...   \n",
       "2995 -18.477665 -22.479776   0.922552 -7.602468  ... -2.470063  4.421223   \n",
       "2996 -15.861244 -10.180239  -4.867939 -0.662536  ... -2.227642  0.605481   \n",
       "2997 -13.977830 -16.337875  -0.353709 -4.651527  ... -0.028793  3.763042   \n",
       "2998 -14.844326 -19.795837  -4.025840 -4.273027  ... -3.241732 -0.987353   \n",
       "2999 -15.025388 -19.491266  -0.536067 -6.233265  ... -2.224442  2.073195   \n",
       "\n",
       "            31        32        33        34        35        36        37  \\\n",
       "0    -2.383272 -1.047149 -5.113010 -3.650117 -3.092591 -1.955777 -4.405060   \n",
       "1    -1.837900 -0.798910 -4.694558 -4.464447 -1.893085 -2.912510 -4.858458   \n",
       "2    -2.202147 -0.537667 -3.844402 -2.821896 -2.086511 -2.610275 -4.089844   \n",
       "3    -1.725350 -0.643298 -3.470233 -2.856177 -2.057140 -1.870503 -4.755356   \n",
       "4    -3.425826  0.476763 -4.416140 -2.720565 -2.072952 -1.341345 -5.566973   \n",
       "...        ...       ...       ...       ...       ...       ...       ...   \n",
       "2995  0.742409 -3.576027 -1.591279 -3.515108 -3.029455 -3.592587 -2.900054   \n",
       "2996  1.392444 -0.948494 -3.438912  0.659637 -0.903038 -1.892453 -2.112316   \n",
       "2997  1.154832 -4.393998 -5.090885 -2.760841 -1.561349 -3.028061 -4.226657   \n",
       "2998  0.961699 -3.170674 -4.107362 -6.001142 -4.654924 -3.437292 -3.550606   \n",
       "2999  3.516302 -1.918456 -0.355499 -1.424978 -2.336957 -1.454762 -6.149889   \n",
       "\n",
       "            38  \n",
       "0    -4.580990  \n",
       "1    -4.174491  \n",
       "2    -5.701215  \n",
       "3    -4.600479  \n",
       "4    -4.696309  \n",
       "...        ...  \n",
       "2995  0.754864  \n",
       "2996 -1.224023  \n",
       "2997  3.758476  \n",
       "2998 -0.757205  \n",
       "2999  0.243947  \n",
       "\n",
       "[3000 rows x 39 columns]"
      ]
     },
     "execution_count": 5,
     "metadata": {},
     "output_type": "execute_result"
    }
   ],
   "source": [
    "x=data.iloc[:,:-2]\n",
    "x"
   ]
  },
  {
   "cell_type": "code",
   "execution_count": 6,
   "metadata": {
    "colab": {
     "base_uri": "https://localhost:8080/"
    },
    "id": "O2Q2iVvyrVhy",
    "outputId": "bd29cfcc-44c5-48bb-c601-59505ac3ed10"
   },
   "outputs": [
    {
     "data": {
      "text/plain": [
       "0       adult\n",
       "1       adult\n",
       "2       adult\n",
       "3       adult\n",
       "4       adult\n",
       "        ...  \n",
       "2995    child\n",
       "2996    child\n",
       "2997    child\n",
       "2998    child\n",
       "2999    child\n",
       "Name: label, Length: 3000, dtype: object"
      ]
     },
     "execution_count": 6,
     "metadata": {},
     "output_type": "execute_result"
    }
   ],
   "source": [
    "y=data.iloc[:,-1]\n",
    "y"
   ]
  },
  {
   "cell_type": "code",
   "execution_count": 7,
   "metadata": {
    "colab": {
     "base_uri": "https://localhost:8080/"
    },
    "id": "2Tw-tUIJrXh_",
    "outputId": "aa96a391-4bac-412c-9eeb-70c3245fa634"
   },
   "outputs": [
    {
     "data": {
      "text/plain": [
       "array([0, 0, 0, ..., 1, 1, 1])"
      ]
     },
     "execution_count": 7,
     "metadata": {},
     "output_type": "execute_result"
    }
   ],
   "source": [
    "from sklearn.preprocessing import LabelEncoder\n",
    "label_encoder=LabelEncoder()\n",
    "y=label_encoder.fit_transform(y)\n",
    "y"
   ]
  },
  {
   "cell_type": "code",
   "execution_count": 8,
   "metadata": {
    "colab": {
     "base_uri": "https://localhost:8080/",
     "height": 488
    },
    "id": "CGtYRLcjraxk",
    "outputId": "77ebc9b9-d645-44fd-c8b1-c9cbec73caf1"
   },
   "outputs": [
    {
     "data": {
      "text/html": [
       "\n",
       "  <div id=\"df-0f1b5320-bcc5-47e6-88c2-64e97af0ac7f\">\n",
       "    <div class=\"colab-df-container\">\n",
       "      <div>\n",
       "<style scoped>\n",
       "    .dataframe tbody tr th:only-of-type {\n",
       "        vertical-align: middle;\n",
       "    }\n",
       "\n",
       "    .dataframe tbody tr th {\n",
       "        vertical-align: top;\n",
       "    }\n",
       "\n",
       "    .dataframe thead th {\n",
       "        text-align: right;\n",
       "    }\n",
       "</style>\n",
       "<table border=\"1\" class=\"dataframe\">\n",
       "  <thead>\n",
       "    <tr style=\"text-align: right;\">\n",
       "      <th></th>\n",
       "      <th>0</th>\n",
       "      <th>1</th>\n",
       "      <th>2</th>\n",
       "      <th>3</th>\n",
       "      <th>4</th>\n",
       "      <th>5</th>\n",
       "      <th>6</th>\n",
       "      <th>7</th>\n",
       "      <th>8</th>\n",
       "      <th>9</th>\n",
       "      <th>...</th>\n",
       "      <th>29</th>\n",
       "      <th>30</th>\n",
       "      <th>31</th>\n",
       "      <th>32</th>\n",
       "      <th>33</th>\n",
       "      <th>34</th>\n",
       "      <th>35</th>\n",
       "      <th>36</th>\n",
       "      <th>37</th>\n",
       "      <th>38</th>\n",
       "    </tr>\n",
       "  </thead>\n",
       "  <tbody>\n",
       "    <tr>\n",
       "      <th>0</th>\n",
       "      <td>0.670138</td>\n",
       "      <td>0.586168</td>\n",
       "      <td>0.789807</td>\n",
       "      <td>0.569529</td>\n",
       "      <td>0.896276</td>\n",
       "      <td>0.606913</td>\n",
       "      <td>0.689202</td>\n",
       "      <td>0.666287</td>\n",
       "      <td>0.419384</td>\n",
       "      <td>0.778119</td>\n",
       "      <td>...</td>\n",
       "      <td>0.363010</td>\n",
       "      <td>0.359452</td>\n",
       "      <td>0.308980</td>\n",
       "      <td>0.388411</td>\n",
       "      <td>0.276964</td>\n",
       "      <td>0.323535</td>\n",
       "      <td>0.356386</td>\n",
       "      <td>0.419597</td>\n",
       "      <td>0.340556</td>\n",
       "      <td>0.203566</td>\n",
       "    </tr>\n",
       "    <tr>\n",
       "      <th>1</th>\n",
       "      <td>0.622623</td>\n",
       "      <td>0.612828</td>\n",
       "      <td>0.749603</td>\n",
       "      <td>0.561609</td>\n",
       "      <td>0.858494</td>\n",
       "      <td>0.622171</td>\n",
       "      <td>0.760771</td>\n",
       "      <td>0.713855</td>\n",
       "      <td>0.379224</td>\n",
       "      <td>0.741549</td>\n",
       "      <td>...</td>\n",
       "      <td>0.336053</td>\n",
       "      <td>0.413597</td>\n",
       "      <td>0.332691</td>\n",
       "      <td>0.401034</td>\n",
       "      <td>0.298709</td>\n",
       "      <td>0.278295</td>\n",
       "      <td>0.431761</td>\n",
       "      <td>0.355515</td>\n",
       "      <td>0.312453</td>\n",
       "      <td>0.228934</td>\n",
       "    </tr>\n",
       "    <tr>\n",
       "      <th>2</th>\n",
       "      <td>0.677310</td>\n",
       "      <td>0.540080</td>\n",
       "      <td>0.694918</td>\n",
       "      <td>0.582878</td>\n",
       "      <td>0.782504</td>\n",
       "      <td>0.564470</td>\n",
       "      <td>0.674928</td>\n",
       "      <td>0.691067</td>\n",
       "      <td>0.368845</td>\n",
       "      <td>0.824662</td>\n",
       "      <td>...</td>\n",
       "      <td>0.437042</td>\n",
       "      <td>0.372521</td>\n",
       "      <td>0.316855</td>\n",
       "      <td>0.414318</td>\n",
       "      <td>0.342888</td>\n",
       "      <td>0.369548</td>\n",
       "      <td>0.419606</td>\n",
       "      <td>0.375758</td>\n",
       "      <td>0.360095</td>\n",
       "      <td>0.133659</td>\n",
       "    </tr>\n",
       "    <tr>\n",
       "      <th>3</th>\n",
       "      <td>0.699003</td>\n",
       "      <td>0.546206</td>\n",
       "      <td>0.688693</td>\n",
       "      <td>0.668110</td>\n",
       "      <td>0.901110</td>\n",
       "      <td>0.588678</td>\n",
       "      <td>0.688351</td>\n",
       "      <td>0.678569</td>\n",
       "      <td>0.347221</td>\n",
       "      <td>0.794536</td>\n",
       "      <td>...</td>\n",
       "      <td>0.407118</td>\n",
       "      <td>0.313939</td>\n",
       "      <td>0.337584</td>\n",
       "      <td>0.408947</td>\n",
       "      <td>0.362332</td>\n",
       "      <td>0.367643</td>\n",
       "      <td>0.421452</td>\n",
       "      <td>0.425308</td>\n",
       "      <td>0.318844</td>\n",
       "      <td>0.202350</td>\n",
       "    </tr>\n",
       "    <tr>\n",
       "      <th>4</th>\n",
       "      <td>0.577925</td>\n",
       "      <td>0.709901</td>\n",
       "      <td>0.688234</td>\n",
       "      <td>0.511104</td>\n",
       "      <td>0.910279</td>\n",
       "      <td>0.651897</td>\n",
       "      <td>0.752281</td>\n",
       "      <td>0.647049</td>\n",
       "      <td>0.370606</td>\n",
       "      <td>0.736650</td>\n",
       "      <td>...</td>\n",
       "      <td>0.377164</td>\n",
       "      <td>0.449549</td>\n",
       "      <td>0.263653</td>\n",
       "      <td>0.465903</td>\n",
       "      <td>0.313177</td>\n",
       "      <td>0.375177</td>\n",
       "      <td>0.420458</td>\n",
       "      <td>0.460751</td>\n",
       "      <td>0.268537</td>\n",
       "      <td>0.196370</td>\n",
       "    </tr>\n",
       "    <tr>\n",
       "      <th>...</th>\n",
       "      <td>...</td>\n",
       "      <td>...</td>\n",
       "      <td>...</td>\n",
       "      <td>...</td>\n",
       "      <td>...</td>\n",
       "      <td>...</td>\n",
       "      <td>...</td>\n",
       "      <td>...</td>\n",
       "      <td>...</td>\n",
       "      <td>...</td>\n",
       "      <td>...</td>\n",
       "      <td>...</td>\n",
       "      <td>...</td>\n",
       "      <td>...</td>\n",
       "      <td>...</td>\n",
       "      <td>...</td>\n",
       "      <td>...</td>\n",
       "      <td>...</td>\n",
       "      <td>...</td>\n",
       "      <td>...</td>\n",
       "      <td>...</td>\n",
       "    </tr>\n",
       "    <tr>\n",
       "      <th>2995</th>\n",
       "      <td>0.741169</td>\n",
       "      <td>0.652175</td>\n",
       "      <td>0.422804</td>\n",
       "      <td>0.508512</td>\n",
       "      <td>0.463736</td>\n",
       "      <td>0.317828</td>\n",
       "      <td>0.478619</td>\n",
       "      <td>0.280951</td>\n",
       "      <td>0.720227</td>\n",
       "      <td>0.545891</td>\n",
       "      <td>...</td>\n",
       "      <td>0.282143</td>\n",
       "      <td>0.589083</td>\n",
       "      <td>0.444875</td>\n",
       "      <td>0.259815</td>\n",
       "      <td>0.459973</td>\n",
       "      <td>0.331036</td>\n",
       "      <td>0.360353</td>\n",
       "      <td>0.309963</td>\n",
       "      <td>0.433842</td>\n",
       "      <td>0.536551</td>\n",
       "    </tr>\n",
       "    <tr>\n",
       "      <th>2996</th>\n",
       "      <td>0.770311</td>\n",
       "      <td>0.530584</td>\n",
       "      <td>0.447036</td>\n",
       "      <td>0.385525</td>\n",
       "      <td>0.519355</td>\n",
       "      <td>0.359627</td>\n",
       "      <td>0.522149</td>\n",
       "      <td>0.511833</td>\n",
       "      <td>0.620028</td>\n",
       "      <td>0.663840</td>\n",
       "      <td>...</td>\n",
       "      <td>0.290720</td>\n",
       "      <td>0.453840</td>\n",
       "      <td>0.473137</td>\n",
       "      <td>0.393427</td>\n",
       "      <td>0.363960</td>\n",
       "      <td>0.562967</td>\n",
       "      <td>0.493973</td>\n",
       "      <td>0.423838</td>\n",
       "      <td>0.482669</td>\n",
       "      <td>0.413058</td>\n",
       "    </tr>\n",
       "    <tr>\n",
       "      <th>2997</th>\n",
       "      <td>0.752311</td>\n",
       "      <td>0.711111</td>\n",
       "      <td>0.377212</td>\n",
       "      <td>0.455005</td>\n",
       "      <td>0.535764</td>\n",
       "      <td>0.278007</td>\n",
       "      <td>0.553484</td>\n",
       "      <td>0.396244</td>\n",
       "      <td>0.698143</td>\n",
       "      <td>0.596044</td>\n",
       "      <td>...</td>\n",
       "      <td>0.368523</td>\n",
       "      <td>0.565755</td>\n",
       "      <td>0.462806</td>\n",
       "      <td>0.218220</td>\n",
       "      <td>0.278114</td>\n",
       "      <td>0.372940</td>\n",
       "      <td>0.452606</td>\n",
       "      <td>0.347775</td>\n",
       "      <td>0.351614</td>\n",
       "      <td>0.723992</td>\n",
       "    </tr>\n",
       "    <tr>\n",
       "      <th>2998</th>\n",
       "      <td>0.703642</td>\n",
       "      <td>0.826230</td>\n",
       "      <td>0.386405</td>\n",
       "      <td>0.405879</td>\n",
       "      <td>0.617396</td>\n",
       "      <td>0.257852</td>\n",
       "      <td>0.539068</td>\n",
       "      <td>0.331333</td>\n",
       "      <td>0.634600</td>\n",
       "      <td>0.602477</td>\n",
       "      <td>...</td>\n",
       "      <td>0.254838</td>\n",
       "      <td>0.397384</td>\n",
       "      <td>0.454409</td>\n",
       "      <td>0.280427</td>\n",
       "      <td>0.329223</td>\n",
       "      <td>0.192922</td>\n",
       "      <td>0.258212</td>\n",
       "      <td>0.320364</td>\n",
       "      <td>0.393518</td>\n",
       "      <td>0.442190</td>\n",
       "    </tr>\n",
       "    <tr>\n",
       "      <th>2999</th>\n",
       "      <td>0.700027</td>\n",
       "      <td>0.517356</td>\n",
       "      <td>0.459972</td>\n",
       "      <td>0.439853</td>\n",
       "      <td>0.481139</td>\n",
       "      <td>0.396422</td>\n",
       "      <td>0.536055</td>\n",
       "      <td>0.337050</td>\n",
       "      <td>0.694987</td>\n",
       "      <td>0.569162</td>\n",
       "      <td>...</td>\n",
       "      <td>0.290834</td>\n",
       "      <td>0.505861</td>\n",
       "      <td>0.565475</td>\n",
       "      <td>0.344104</td>\n",
       "      <td>0.524191</td>\n",
       "      <td>0.447155</td>\n",
       "      <td>0.403869</td>\n",
       "      <td>0.453155</td>\n",
       "      <td>0.232406</td>\n",
       "      <td>0.504667</td>\n",
       "    </tr>\n",
       "  </tbody>\n",
       "</table>\n",
       "<p>3000 rows × 39 columns</p>\n",
       "</div>\n",
       "      <button class=\"colab-df-convert\" onclick=\"convertToInteractive('df-0f1b5320-bcc5-47e6-88c2-64e97af0ac7f')\"\n",
       "              title=\"Convert this dataframe to an interactive table.\"\n",
       "              style=\"display:none;\">\n",
       "        \n",
       "  <svg xmlns=\"http://www.w3.org/2000/svg\" height=\"24px\"viewBox=\"0 0 24 24\"\n",
       "       width=\"24px\">\n",
       "    <path d=\"M0 0h24v24H0V0z\" fill=\"none\"/>\n",
       "    <path d=\"M18.56 5.44l.94 2.06.94-2.06 2.06-.94-2.06-.94-.94-2.06-.94 2.06-2.06.94zm-11 1L8.5 8.5l.94-2.06 2.06-.94-2.06-.94L8.5 2.5l-.94 2.06-2.06.94zm10 10l.94 2.06.94-2.06 2.06-.94-2.06-.94-.94-2.06-.94 2.06-2.06.94z\"/><path d=\"M17.41 7.96l-1.37-1.37c-.4-.4-.92-.59-1.43-.59-.52 0-1.04.2-1.43.59L10.3 9.45l-7.72 7.72c-.78.78-.78 2.05 0 2.83L4 21.41c.39.39.9.59 1.41.59.51 0 1.02-.2 1.41-.59l7.78-7.78 2.81-2.81c.8-.78.8-2.07 0-2.86zM5.41 20L4 18.59l7.72-7.72 1.47 1.35L5.41 20z\"/>\n",
       "  </svg>\n",
       "      </button>\n",
       "      \n",
       "  <style>\n",
       "    .colab-df-container {\n",
       "      display:flex;\n",
       "      flex-wrap:wrap;\n",
       "      gap: 12px;\n",
       "    }\n",
       "\n",
       "    .colab-df-convert {\n",
       "      background-color: #E8F0FE;\n",
       "      border: none;\n",
       "      border-radius: 50%;\n",
       "      cursor: pointer;\n",
       "      display: none;\n",
       "      fill: #1967D2;\n",
       "      height: 32px;\n",
       "      padding: 0 0 0 0;\n",
       "      width: 32px;\n",
       "    }\n",
       "\n",
       "    .colab-df-convert:hover {\n",
       "      background-color: #E2EBFA;\n",
       "      box-shadow: 0px 1px 2px rgba(60, 64, 67, 0.3), 0px 1px 3px 1px rgba(60, 64, 67, 0.15);\n",
       "      fill: #174EA6;\n",
       "    }\n",
       "\n",
       "    [theme=dark] .colab-df-convert {\n",
       "      background-color: #3B4455;\n",
       "      fill: #D2E3FC;\n",
       "    }\n",
       "\n",
       "    [theme=dark] .colab-df-convert:hover {\n",
       "      background-color: #434B5C;\n",
       "      box-shadow: 0px 1px 3px 1px rgba(0, 0, 0, 0.15);\n",
       "      filter: drop-shadow(0px 1px 2px rgba(0, 0, 0, 0.3));\n",
       "      fill: #FFFFFF;\n",
       "    }\n",
       "  </style>\n",
       "\n",
       "      <script>\n",
       "        const buttonEl =\n",
       "          document.querySelector('#df-0f1b5320-bcc5-47e6-88c2-64e97af0ac7f button.colab-df-convert');\n",
       "        buttonEl.style.display =\n",
       "          google.colab.kernel.accessAllowed ? 'block' : 'none';\n",
       "\n",
       "        async function convertToInteractive(key) {\n",
       "          const element = document.querySelector('#df-0f1b5320-bcc5-47e6-88c2-64e97af0ac7f');\n",
       "          const dataTable =\n",
       "            await google.colab.kernel.invokeFunction('convertToInteractive',\n",
       "                                                     [key], {});\n",
       "          if (!dataTable) return;\n",
       "\n",
       "          const docLinkHtml = 'Like what you see? Visit the ' +\n",
       "            '<a target=\"_blank\" href=https://colab.research.google.com/notebooks/data_table.ipynb>data table notebook</a>'\n",
       "            + ' to learn more about interactive tables.';\n",
       "          element.innerHTML = '';\n",
       "          dataTable['output_type'] = 'display_data';\n",
       "          await google.colab.output.renderOutput(dataTable, element);\n",
       "          const docLink = document.createElement('div');\n",
       "          docLink.innerHTML = docLinkHtml;\n",
       "          element.appendChild(docLink);\n",
       "        }\n",
       "      </script>\n",
       "    </div>\n",
       "  </div>\n",
       "  "
      ],
      "text/plain": [
       "            0         1         2         3         4         5         6   \\\n",
       "0     0.670138  0.586168  0.789807  0.569529  0.896276  0.606913  0.689202   \n",
       "1     0.622623  0.612828  0.749603  0.561609  0.858494  0.622171  0.760771   \n",
       "2     0.677310  0.540080  0.694918  0.582878  0.782504  0.564470  0.674928   \n",
       "3     0.699003  0.546206  0.688693  0.668110  0.901110  0.588678  0.688351   \n",
       "4     0.577925  0.709901  0.688234  0.511104  0.910279  0.651897  0.752281   \n",
       "...        ...       ...       ...       ...       ...       ...       ...   \n",
       "2995  0.741169  0.652175  0.422804  0.508512  0.463736  0.317828  0.478619   \n",
       "2996  0.770311  0.530584  0.447036  0.385525  0.519355  0.359627  0.522149   \n",
       "2997  0.752311  0.711111  0.377212  0.455005  0.535764  0.278007  0.553484   \n",
       "2998  0.703642  0.826230  0.386405  0.405879  0.617396  0.257852  0.539068   \n",
       "2999  0.700027  0.517356  0.459972  0.439853  0.481139  0.396422  0.536055   \n",
       "\n",
       "            7         8         9   ...        29        30        31  \\\n",
       "0     0.666287  0.419384  0.778119  ...  0.363010  0.359452  0.308980   \n",
       "1     0.713855  0.379224  0.741549  ...  0.336053  0.413597  0.332691   \n",
       "2     0.691067  0.368845  0.824662  ...  0.437042  0.372521  0.316855   \n",
       "3     0.678569  0.347221  0.794536  ...  0.407118  0.313939  0.337584   \n",
       "4     0.647049  0.370606  0.736650  ...  0.377164  0.449549  0.263653   \n",
       "...        ...       ...       ...  ...       ...       ...       ...   \n",
       "2995  0.280951  0.720227  0.545891  ...  0.282143  0.589083  0.444875   \n",
       "2996  0.511833  0.620028  0.663840  ...  0.290720  0.453840  0.473137   \n",
       "2997  0.396244  0.698143  0.596044  ...  0.368523  0.565755  0.462806   \n",
       "2998  0.331333  0.634600  0.602477  ...  0.254838  0.397384  0.454409   \n",
       "2999  0.337050  0.694987  0.569162  ...  0.290834  0.505861  0.565475   \n",
       "\n",
       "            32        33        34        35        36        37        38  \n",
       "0     0.388411  0.276964  0.323535  0.356386  0.419597  0.340556  0.203566  \n",
       "1     0.401034  0.298709  0.278295  0.431761  0.355515  0.312453  0.228934  \n",
       "2     0.414318  0.342888  0.369548  0.419606  0.375758  0.360095  0.133659  \n",
       "3     0.408947  0.362332  0.367643  0.421452  0.425308  0.318844  0.202350  \n",
       "4     0.465903  0.313177  0.375177  0.420458  0.460751  0.268537  0.196370  \n",
       "...        ...       ...       ...       ...       ...       ...       ...  \n",
       "2995  0.259815  0.459973  0.331036  0.360353  0.309963  0.433842  0.536551  \n",
       "2996  0.393427  0.363960  0.562967  0.493973  0.423838  0.482669  0.413058  \n",
       "2997  0.218220  0.278114  0.372940  0.452606  0.347775  0.351614  0.723992  \n",
       "2998  0.280427  0.329223  0.192922  0.258212  0.320364  0.393518  0.442190  \n",
       "2999  0.344104  0.524191  0.447155  0.403869  0.453155  0.232406  0.504667  \n",
       "\n",
       "[3000 rows x 39 columns]"
      ]
     },
     "execution_count": 8,
     "metadata": {},
     "output_type": "execute_result"
    }
   ],
   "source": [
    "from sklearn.preprocessing import MinMaxScaler\n",
    "scaler=MinMaxScaler()\n",
    "scaler.fit(x)\n",
    "x_scaled=scaler.transform(x)\n",
    "x_scaled=pd.DataFrame(x_scaled)\n",
    "x_scaled\n"
   ]
  },
  {
   "cell_type": "code",
   "execution_count": 30,
   "metadata": {
    "id": "kowi2qYOfcG7"
   },
   "outputs": [],
   "source": [
    "import numpy as np\n",
    "import random\n",
    "import tensorflow as tf\n",
    "\n",
    "# Set random seed for reproducibility\n",
    "np.random.seed(42)\n",
    "random.seed(42)\n",
    "tf.random.set_seed(42)\n"
   ]
  },
  {
   "cell_type": "code",
   "execution_count": 31,
   "metadata": {
    "id": "9hL_R3FVrd24"
   },
   "outputs": [],
   "source": [
    "from sklearn.model_selection import train_test_split\n",
    "x_train, x_test, y_train, y_test = train_test_split(x_scaled, y, test_size=0.2, random_state=42)"
   ]
  },
  {
   "cell_type": "code",
   "execution_count": 32,
   "metadata": {
    "id": "kgEiyLHLrg7_"
   },
   "outputs": [],
   "source": [
    "x_train = np.array(x_train).reshape(-1, 39, 1)\n",
    "x_test = np.array(x_test).reshape(-1, 39, 1)\n"
   ]
  },
  {
   "cell_type": "code",
   "execution_count": 33,
   "metadata": {
    "id": "QlN70-8OrjGq"
   },
   "outputs": [],
   "source": [
    "from tensorflow.keras.models import Sequential\n",
    "from tensorflow.keras.layers import Conv1D, MaxPooling1D, Flatten, Dense\n"
   ]
  },
  {
   "cell_type": "code",
   "execution_count": 34,
   "metadata": {
    "id": "3s1q2BrfrlPF"
   },
   "outputs": [],
   "source": [
    "# Create a Conv1D model\n",
    "model = Sequential()\n",
    "model.add(Conv1D(32, kernel_size=3, activation='relu', input_shape=(39, 1)))\n",
    "model.add(MaxPooling1D(pool_size=2))\n",
    "model.add(Flatten())\n",
    "model.add(Dense(128, activation='relu'))\n",
    "model.add(Dense(1, activation='sigmoid'))"
   ]
  },
  {
   "cell_type": "code",
   "execution_count": 42,
   "metadata": {
    "colab": {
     "base_uri": "https://localhost:8080/"
    },
    "id": "LPvIjgF3tsE4",
    "outputId": "a2eb64b2-04c7-4d83-90bd-a03aabc75265"
   },
   "outputs": [
    {
     "name": "stdout",
     "output_type": "stream",
     "text": [
      "Epoch 1/30\n",
      "75/75 [==============================] - 2s 7ms/step - loss: 0.0042 - accuracy: 0.9987 - val_loss: 0.0052 - val_accuracy: 0.9983\n",
      "Epoch 2/30\n",
      "75/75 [==============================] - 0s 5ms/step - loss: 0.0038 - accuracy: 0.9992 - val_loss: 0.0051 - val_accuracy: 0.9967\n",
      "Epoch 3/30\n",
      "75/75 [==============================] - 0s 5ms/step - loss: 0.0017 - accuracy: 1.0000 - val_loss: 0.0044 - val_accuracy: 0.9983\n",
      "Epoch 4/30\n",
      "75/75 [==============================] - 0s 5ms/step - loss: 0.0017 - accuracy: 0.9996 - val_loss: 0.0042 - val_accuracy: 0.9983\n",
      "Epoch 5/30\n",
      "75/75 [==============================] - 0s 6ms/step - loss: 0.0015 - accuracy: 1.0000 - val_loss: 0.0046 - val_accuracy: 0.9983\n",
      "Epoch 6/30\n",
      "75/75 [==============================] - 0s 5ms/step - loss: 0.0022 - accuracy: 0.9992 - val_loss: 0.0050 - val_accuracy: 0.9983\n",
      "Epoch 7/30\n",
      "75/75 [==============================] - 0s 5ms/step - loss: 0.0041 - accuracy: 0.9983 - val_loss: 0.0110 - val_accuracy: 0.9983\n",
      "Epoch 8/30\n",
      "75/75 [==============================] - 0s 5ms/step - loss: 0.0024 - accuracy: 0.9996 - val_loss: 0.0080 - val_accuracy: 0.9967\n",
      "Epoch 9/30\n",
      "75/75 [==============================] - 0s 5ms/step - loss: 0.0025 - accuracy: 0.9987 - val_loss: 0.0051 - val_accuracy: 0.9983\n",
      "Epoch 10/30\n",
      "75/75 [==============================] - 0s 5ms/step - loss: 0.0015 - accuracy: 0.9996 - val_loss: 0.0049 - val_accuracy: 0.9983\n",
      "Epoch 11/30\n",
      "75/75 [==============================] - 0s 5ms/step - loss: 8.7302e-04 - accuracy: 1.0000 - val_loss: 0.0060 - val_accuracy: 0.9967\n",
      "Epoch 12/30\n",
      "75/75 [==============================] - 0s 5ms/step - loss: 0.0014 - accuracy: 1.0000 - val_loss: 0.0046 - val_accuracy: 0.9983\n",
      "Epoch 13/30\n",
      "75/75 [==============================] - 0s 6ms/step - loss: 9.5817e-04 - accuracy: 1.0000 - val_loss: 0.0053 - val_accuracy: 0.9983\n",
      "Epoch 14/30\n",
      "75/75 [==============================] - 0s 5ms/step - loss: 0.0010 - accuracy: 1.0000 - val_loss: 0.0055 - val_accuracy: 0.9983\n",
      "Epoch 15/30\n",
      "75/75 [==============================] - 0s 5ms/step - loss: 8.4506e-04 - accuracy: 1.0000 - val_loss: 0.0049 - val_accuracy: 0.9983\n",
      "Epoch 16/30\n",
      "75/75 [==============================] - 0s 5ms/step - loss: 7.3131e-04 - accuracy: 1.0000 - val_loss: 0.0044 - val_accuracy: 0.9983\n",
      "Epoch 17/30\n",
      "75/75 [==============================] - 0s 5ms/step - loss: 8.0150e-04 - accuracy: 1.0000 - val_loss: 0.0062 - val_accuracy: 0.9983\n",
      "Epoch 18/30\n",
      "75/75 [==============================] - 0s 5ms/step - loss: 5.9551e-04 - accuracy: 1.0000 - val_loss: 0.0042 - val_accuracy: 0.9983\n",
      "Epoch 19/30\n",
      "75/75 [==============================] - 0s 5ms/step - loss: 9.4651e-04 - accuracy: 1.0000 - val_loss: 0.0058 - val_accuracy: 0.9983\n",
      "Epoch 20/30\n",
      "75/75 [==============================] - 0s 5ms/step - loss: 0.0012 - accuracy: 1.0000 - val_loss: 0.0054 - val_accuracy: 0.9983\n",
      "Epoch 21/30\n",
      "75/75 [==============================] - 0s 5ms/step - loss: 6.1265e-04 - accuracy: 1.0000 - val_loss: 0.0052 - val_accuracy: 0.9983\n",
      "Epoch 22/30\n",
      "75/75 [==============================] - 0s 5ms/step - loss: 4.5320e-04 - accuracy: 1.0000 - val_loss: 0.0048 - val_accuracy: 0.9983\n",
      "Epoch 23/30\n",
      "75/75 [==============================] - 1s 7ms/step - loss: 4.1865e-04 - accuracy: 1.0000 - val_loss: 0.0044 - val_accuracy: 0.9983\n",
      "Epoch 24/30\n",
      "75/75 [==============================] - 1s 7ms/step - loss: 3.7438e-04 - accuracy: 1.0000 - val_loss: 0.0064 - val_accuracy: 0.9983\n",
      "Epoch 25/30\n",
      "75/75 [==============================] - 1s 8ms/step - loss: 8.9733e-04 - accuracy: 1.0000 - val_loss: 0.0067 - val_accuracy: 0.9983\n",
      "Epoch 26/30\n",
      "75/75 [==============================] - 1s 8ms/step - loss: 6.8405e-04 - accuracy: 1.0000 - val_loss: 0.0055 - val_accuracy: 0.9983\n",
      "Epoch 27/30\n",
      "75/75 [==============================] - 1s 8ms/step - loss: 7.7745e-04 - accuracy: 1.0000 - val_loss: 0.0046 - val_accuracy: 0.9983\n",
      "Epoch 28/30\n",
      "75/75 [==============================] - 0s 5ms/step - loss: 8.9688e-04 - accuracy: 1.0000 - val_loss: 0.0056 - val_accuracy: 0.9983\n",
      "Epoch 29/30\n",
      "75/75 [==============================] - 0s 5ms/step - loss: 4.4722e-04 - accuracy: 1.0000 - val_loss: 0.0051 - val_accuracy: 0.9967\n",
      "Epoch 30/30\n",
      "75/75 [==============================] - 0s 5ms/step - loss: 0.0094 - accuracy: 0.9962 - val_loss: 0.0199 - val_accuracy: 0.9917\n"
     ]
    },
    {
     "data": {
      "text/plain": [
       "<keras.callbacks.History at 0x7fc2dd83a470>"
      ]
     },
     "execution_count": 42,
     "metadata": {},
     "output_type": "execute_result"
    }
   ],
   "source": [
    "# Compile and train the model\n",
    "model.compile(loss='binary_crossentropy', optimizer='adam', metrics=['accuracy'])\n",
    "model.fit(x_train, y_train, epochs=30, batch_size=32, validation_data=(x_test, y_test))"
   ]
  },
  {
   "cell_type": "code",
   "execution_count": 43,
   "metadata": {
    "colab": {
     "base_uri": "https://localhost:8080/"
    },
    "id": "pa_fTL-atvk9",
    "outputId": "4946d2c4-801b-46bc-b33b-a239b46b759f"
   },
   "outputs": [
    {
     "name": "stdout",
     "output_type": "stream",
     "text": [
      "19/19 [==============================] - 0s 2ms/step - loss: 0.0199 - accuracy: 0.9917\n",
      "Test Loss: 0.01993720605969429\n",
      "Test Accuracy: 0.9916666746139526\n"
     ]
    }
   ],
   "source": [
    "loss, accuracy = model.evaluate(x_test, y_test)\n",
    "print('Test Loss:', loss)\n",
    "print('Test Accuracy:', accuracy)"
   ]
  },
  {
   "cell_type": "code",
   "execution_count": 43,
   "metadata": {
    "id": "XxNGpkjet84G"
   },
   "outputs": [],
   "source": []
  },
  {
   "cell_type": "code",
   "execution_count": 44,
   "metadata": {
    "colab": {
     "base_uri": "https://localhost:8080/"
    },
    "id": "GuT5XNgtuwQc",
    "outputId": "1950d778-a473-44db-e785-c61e281274a7"
   },
   "outputs": [
    {
     "data": {
      "text/plain": [
       "0     0.577925\n",
       "1     0.709901\n",
       "2     0.688234\n",
       "3     0.511104\n",
       "4     0.910279\n",
       "5     0.651897\n",
       "6     0.752281\n",
       "7     0.647049\n",
       "8     0.370606\n",
       "9     0.736650\n",
       "10    0.669853\n",
       "11    0.556179\n",
       "12    0.420008\n",
       "13    0.752727\n",
       "14    0.759170\n",
       "15    0.593053\n",
       "16    0.562426\n",
       "17    0.736432\n",
       "18    0.504392\n",
       "19    0.622027\n",
       "20    0.364966\n",
       "21    0.531934\n",
       "22    0.221066\n",
       "23    0.302269\n",
       "24    0.287320\n",
       "25    0.205320\n",
       "26    0.268884\n",
       "27    0.262020\n",
       "28    0.213975\n",
       "29    0.377164\n",
       "30    0.449549\n",
       "31    0.263653\n",
       "32    0.465903\n",
       "33    0.313177\n",
       "34    0.375177\n",
       "35    0.420458\n",
       "36    0.460751\n",
       "37    0.268537\n",
       "38    0.196370\n",
       "Name: 4, dtype: float64"
      ]
     },
     "execution_count": 44,
     "metadata": {},
     "output_type": "execute_result"
    }
   ],
   "source": [
    "x_scaled.iloc[4]"
   ]
  },
  {
   "cell_type": "code",
   "execution_count": 49,
   "metadata": {
    "colab": {
     "base_uri": "https://localhost:8080/"
    },
    "id": "YEKzYxp6wnf4",
    "outputId": "ef3748aa-a3bc-497a-f127-e7d2b11928d2"
   },
   "outputs": [
    {
     "name": "stdout",
     "output_type": "stream",
     "text": [
      "1/1 [==============================] - 0s 28ms/step\n",
      "[[0]]\n"
     ]
    }
   ],
   "source": [
    "input_sample=[0.577925,0.709901,0.688234,0.511104,0.910279,0.651897,0.752281,0.647049,0.370606,0.736650,0.669853,0.556179,0.420008,0.752727,0.759170,0.593053,0.562426,0.736432,0.504392,0.622027,0.364966,0.531934,0.221066,0.302269,0.287320,0.205320,0.268884,0.262020,0.213975,0.377164,0.449549,0.263653,0.465903,0.313177,0.375177,0.420458,0.460751,0.268537,0.196370]\n",
    "len(input_sample)\n",
    "input_sample = np.array(input_sample).reshape(1, 39, 1)\n",
    "predictions = model.predict(input_sample)\n",
    "predictions\n",
    "\n",
    "threshold = 0.5\n",
    "binary_prediction = (predictions > threshold).astype(int)\n",
    "print(binary_prediction)\n"
   ]
  },
  {
   "cell_type": "code",
   "execution_count": 46,
   "metadata": {
    "id": "LCoLPLSmyPcm"
   },
   "outputs": [],
   "source": []
  },
  {
   "cell_type": "code",
   "execution_count": 19,
   "metadata": {
    "id": "DnwzmD3myR__"
   },
   "outputs": [],
   "source": [
    "#predictions"
   ]
  },
  {
   "cell_type": "code",
   "execution_count": 20,
   "metadata": {
    "colab": {
     "base_uri": "https://localhost:8080/"
    },
    "id": "gR88U7VXyc87",
    "outputId": "21635b68-409d-40ef-e27d-d9319aa46730"
   },
   "outputs": [
    {
     "name": "stdout",
     "output_type": "stream",
     "text": [
      "1/1 [==============================] - 0s 24ms/step\n"
     ]
    },
    {
     "data": {
      "text/plain": [
       "array([[0.46632928]], dtype=float32)"
      ]
     },
     "execution_count": 20,
     "metadata": {},
     "output_type": "execute_result"
    }
   ],
   "source": [
    "input_sample=[0.622623,0.612828,0.749603,0.561609,0.858494,0.622171,0.760771,0.713855,0.379224,0.741549,0.599961,0.612100,0.525807,0.719851,0.668784,0.625225,0.508372,0.740133,0.439672,0.567426,0.343854,0.480994,0.183284,0.358476,0.192624,0.172887,0.241540,0.149944,0.230931,0.336053,0.413597,0.332691,0.401034,0.298709,0.278295,0.431761,0.355515,0.312453,0.228934]\n",
    "len(input_sample)\n",
    "input_sample = np.array(input_sample).reshape(1, 39, 1)\n",
    "predictions = model.predict(input_sample)\n",
    "predictions"
   ]
  },
  {
   "cell_type": "code",
   "execution_count": 21,
   "metadata": {
    "colab": {
     "base_uri": "https://localhost:8080/"
    },
    "id": "lmfoEkW6yhaI",
    "outputId": "cdb9340c-d23a-4b64-b5f4-8eace4735f23"
   },
   "outputs": [
    {
     "data": {
      "text/plain": [
       "0     0.712120\n",
       "1     0.650542\n",
       "2     0.366992\n",
       "3     0.436288\n",
       "4     0.428585\n",
       "5     0.373965\n",
       "6     0.687088\n",
       "7     0.642749\n",
       "8     0.686330\n",
       "9     0.626207\n",
       "10    0.468095\n",
       "11    0.339787\n",
       "12    0.584682\n",
       "13    0.369466\n",
       "14    0.463744\n",
       "15    0.711811\n",
       "16    0.482888\n",
       "17    0.664246\n",
       "18    0.481662\n",
       "19    0.631933\n",
       "20    0.521777\n",
       "21    0.736818\n",
       "22    0.678289\n",
       "23    0.635984\n",
       "24    0.828648\n",
       "25    0.420239\n",
       "26    0.479775\n",
       "27    0.294975\n",
       "28    0.133693\n",
       "29    0.142501\n",
       "30    0.396931\n",
       "31    0.392093\n",
       "32    0.430237\n",
       "33    0.329627\n",
       "34    0.330772\n",
       "35    0.370938\n",
       "36    0.354412\n",
       "37    0.434149\n",
       "38    0.383211\n",
       "Name: 2599, dtype: float64"
      ]
     },
     "execution_count": 21,
     "metadata": {},
     "output_type": "execute_result"
    }
   ],
   "source": [
    "x_scaled.iloc[2599]"
   ]
  },
  {
   "cell_type": "code",
   "execution_count": 51,
   "metadata": {
    "id": "KU9YFxvOymSH"
   },
   "outputs": [],
   "source": [
    "input_sample=[0.712120,0.650542,0.366992,0.436288,0.428585,0.373965,0.687088,0.642749,0.686330,0.626207,0.468095,0.339787,0.584682,0.369466,0.463744,0.711811,0.482888,0.664246,0.481662,0.631933,0.521777,0.736818,0.678289,0.635984,0.828648,0.420239,0.479775,0.294975,0.133693,0.142501,0.396931,0.392093,0.430237,0.329627,0.330772,0.370938,0.354412,0.434149,0.383211]"
   ]
  },
  {
   "cell_type": "code",
   "execution_count": 52,
   "metadata": {
    "colab": {
     "base_uri": "https://localhost:8080/"
    },
    "id": "0KKCPhmcSjj9",
    "outputId": "86243cf4-a4e0-4eda-cbe9-724cd90ca960"
   },
   "outputs": [
    {
     "name": "stdout",
     "output_type": "stream",
     "text": [
      "1/1 [==============================] - 0s 22ms/step\n",
      "[[1]]\n"
     ]
    }
   ],
   "source": [
    "input_sample = np.array(input_sample).reshape(1, 39, 1)\n",
    "predictions = model.predict(input_sample)\n",
    "predictions\n",
    "threshold = 0.5\n",
    "binary_prediction = (predictions > threshold).astype(int)\n",
    "print(binary_prediction)\n"
   ]
  },
  {
   "cell_type": "code",
   "execution_count": 53,
   "metadata": {
    "colab": {
     "base_uri": "https://localhost:8080/"
    },
    "id": "0pqt-fb6Sqt1",
    "outputId": "90c0fb43-55d5-4f3f-e02b-f8d65f915817"
   },
   "outputs": [
    {
     "data": {
      "text/plain": [
       "0     0.703199\n",
       "1     0.802535\n",
       "2     0.269742\n",
       "3     0.374358\n",
       "4     0.662270\n",
       "5     0.256021\n",
       "6     0.628288\n",
       "7     0.484283\n",
       "8     0.609980\n",
       "9     0.726404\n",
       "10    0.536188\n",
       "11    0.405838\n",
       "12    0.603440\n",
       "13    0.608939\n",
       "14    0.568098\n",
       "15    0.460169\n",
       "16    0.539377\n",
       "17    0.594227\n",
       "18    0.237530\n",
       "19    0.294224\n",
       "20    0.365145\n",
       "21    0.339269\n",
       "22    0.231255\n",
       "23    0.411205\n",
       "24    0.390116\n",
       "25    0.395038\n",
       "26    0.689311\n",
       "27    0.513649\n",
       "28    0.670216\n",
       "29    0.661571\n",
       "30    0.577641\n",
       "31    0.295602\n",
       "32    0.215556\n",
       "33    0.354745\n",
       "34    0.395653\n",
       "35    0.576891\n",
       "36    0.483373\n",
       "37    0.468035\n",
       "38    0.434348\n",
       "Name: 1700, dtype: float64"
      ]
     },
     "execution_count": 53,
     "metadata": {},
     "output_type": "execute_result"
    }
   ],
   "source": [
    "x_scaled.iloc[1700]"
   ]
  },
  {
   "cell_type": "code",
   "execution_count": 54,
   "metadata": {
    "colab": {
     "base_uri": "https://localhost:8080/"
    },
    "id": "t8LsobR3VRvH",
    "outputId": "f1b2798c-e163-444a-88f6-d5b8645ecb20"
   },
   "outputs": [
    {
     "name": "stdout",
     "output_type": "stream",
     "text": [
      "1/1 [==============================] - 0s 35ms/step\n",
      "[[1]]\n"
     ]
    }
   ],
   "source": [
    "input_sample=[0.703199,0.802535,0.269742,0.374358,0.662270,0.256021,0.628288,0.484283,0.609980,0.726404,0.536188,0.405838,0.603440,0.608939,0.568098,0.460169,0.539377,0.594227,0.237530,0.294224,0.365145,0.339269,0.231255,0.411205,0.390116,0.395038,0.689311,0.513649,0.670216,0.661571,0.577641,0.295602,0.215556,0.354745,0.395653,0.576891,0.483373,0.468035,0.434348]\n",
    "len(input_sample)\n",
    "input_sample = np.array(input_sample).reshape(1, 39, 1)\n",
    "predictions = model.predict(input_sample)\n",
    "predictions\n",
    "threshold = 0.5\n",
    "binary_prediction = (predictions > threshold).astype(int)\n",
    "print(binary_prediction)\n"
   ]
  },
  {
   "cell_type": "code",
   "execution_count": 55,
   "metadata": {
    "colab": {
     "base_uri": "https://localhost:8080/"
    },
    "id": "eNjknHuChB3Q",
    "outputId": "52587e7e-c57d-4bcc-859e-7a82a31ccde7"
   },
   "outputs": [
    {
     "data": {
      "text/plain": [
       "0     0.831655\n",
       "1     0.411186\n",
       "2     0.559244\n",
       "3     0.685691\n",
       "4     0.709506\n",
       "5     0.612764\n",
       "6     0.499598\n",
       "7     0.514133\n",
       "8     0.483049\n",
       "9     0.899541\n",
       "10    0.629023\n",
       "11    0.380120\n",
       "12    0.777131\n",
       "13    0.524901\n",
       "14    0.832078\n",
       "15    0.711080\n",
       "16    0.502103\n",
       "17    0.650106\n",
       "18    0.517994\n",
       "19    0.635600\n",
       "20    0.336551\n",
       "21    0.470930\n",
       "22    0.220700\n",
       "23    0.209610\n",
       "24    0.304909\n",
       "25    0.207724\n",
       "26    0.311406\n",
       "27    0.182513\n",
       "28    0.247909\n",
       "29    0.227411\n",
       "30    0.354821\n",
       "31    0.320541\n",
       "32    0.315677\n",
       "33    0.434150\n",
       "34    0.538850\n",
       "35    0.602915\n",
       "36    0.598054\n",
       "37    0.648223\n",
       "38    0.508443\n",
       "Name: 150, dtype: float64"
      ]
     },
     "execution_count": 55,
     "metadata": {},
     "output_type": "execute_result"
    }
   ],
   "source": [
    "x_scaled.iloc[150]"
   ]
  },
  {
   "cell_type": "code",
   "execution_count": null,
   "metadata": {
    "id": "ztqne5lXZUbt"
   },
   "outputs": [],
   "source": []
  },
  {
   "cell_type": "code",
   "execution_count": 56,
   "metadata": {
    "colab": {
     "base_uri": "https://localhost:8080/"
    },
    "id": "8LuRuwvEWaQq",
    "outputId": "4c9bf08b-a426-4bfd-bfed-53225bfe5ecd"
   },
   "outputs": [
    {
     "name": "stdout",
     "output_type": "stream",
     "text": [
      "1/1 [==============================] - 0s 23ms/step\n",
      "[[0]]\n"
     ]
    }
   ],
   "source": [
    "input_sample=[0.831655, 0.411186, 0.559244, 0.685691, 0.709506, 0.612764, 0.499598, 0.514133, 0.483049, 0.899541, 0.629023, 0.380120, 0.777131, 0.524901, 0.832078, 0.711080, 0.502103, 0.650106, 0.517994, 0.635600, 0.336551, 0.470930, 0.220700, 0.209610, 0.304909, 0.207724, 0.311406, 0.182513, 0.247909, 0.227411, 0.354821, 0.320541, 0.315677, 0.434150, 0.538850, 0.602915, 0.598054, 0.648223, 0.508443]\n",
    "len(input_sample)\n",
    "input_sample = np.array(input_sample).reshape(1, 39, 1)\n",
    "predictions = model.predict(input_sample)\n",
    "predictions\n",
    "threshold = 0.5\n",
    "binary_prediction = (predictions > threshold).astype(int)\n",
    "print(binary_prediction)"
   ]
  },
  {
   "cell_type": "code",
   "execution_count": 57,
   "metadata": {
    "colab": {
     "base_uri": "https://localhost:8080/"
    },
    "id": "y6c3VF4JZRtL",
    "outputId": "33b46022-eefb-4c06-b739-550ee7fa2884"
   },
   "outputs": [
    {
     "data": {
      "text/plain": [
       "0     0.872731\n",
       "1     0.411082\n",
       "2     0.480586\n",
       "3     1.000000\n",
       "4     0.253384\n",
       "5     0.528318\n",
       "6     0.296872\n",
       "7     0.394610\n",
       "8     0.502378\n",
       "9     0.392042\n",
       "10    0.621543\n",
       "11    0.006626\n",
       "12    0.516975\n",
       "13    0.521456\n",
       "14    0.669484\n",
       "15    0.201321\n",
       "16    0.501754\n",
       "17    0.354544\n",
       "18    0.311420\n",
       "19    0.320913\n",
       "20    0.236528\n",
       "21    0.187705\n",
       "22    0.124682\n",
       "23    0.319398\n",
       "24    0.362812\n",
       "25    0.542776\n",
       "26    0.778250\n",
       "27    0.758794\n",
       "28    0.785707\n",
       "29    0.417236\n",
       "30    0.271772\n",
       "31    0.303650\n",
       "32    0.376029\n",
       "33    0.512281\n",
       "34    0.550409\n",
       "35    0.218163\n",
       "36    0.291156\n",
       "37    0.418453\n",
       "38    0.608678\n",
       "Name: 1500, dtype: float64"
      ]
     },
     "execution_count": 57,
     "metadata": {},
     "output_type": "execute_result"
    }
   ],
   "source": [
    "x_scaled.iloc[1500]"
   ]
  },
  {
   "cell_type": "code",
   "execution_count": 58,
   "metadata": {
    "colab": {
     "base_uri": "https://localhost:8080/"
    },
    "id": "dPSsY-e-h4gT",
    "outputId": "acaf1583-d989-4e6e-89b1-17f587847df4"
   },
   "outputs": [
    {
     "name": "stdout",
     "output_type": "stream",
     "text": [
      "1/1 [==============================] - 0s 88ms/step\n",
      "[[1]]\n"
     ]
    }
   ],
   "source": [
    "input_sample=[0.872731, 0.411082, 0.480586, 1.000000, 0.253384, 0.528318, 0.296872, 0.394610, 0.502378,0.392042, 0.621543, 0.006626, 0.516975, 0.521456, 0.669484, 0.201321, 0.501754, 0.354544,0.311420, 0.320913, 0.236528, 0.187705, 0.124682, 0.319398, 0.362812, 0.542776, 0.778250,0.758794, 0.785707, 0.417236, 0.271772, 0.303650, 0.376029, 0.512281, 0.550409, 0.218163,0.291156, 0.418453, 0.608678]\n",
    "len(input_sample)\n",
    "input_sample = np.array(input_sample).reshape(1, 39, 1)\n",
    "predictions = model.predict(input_sample)\n",
    "predictions\n",
    "threshold = 0.5\n",
    "binary_prediction = (predictions > threshold).astype(int)\n",
    "print(binary_prediction)"
   ]
  },
  {
   "cell_type": "code",
   "execution_count": 59,
   "metadata": {
    "colab": {
     "base_uri": "https://localhost:8080/"
    },
    "id": "wiDTnF2limnC",
    "outputId": "b0f3e2f0-06de-4c41-bc00-6070eae10c12"
   },
   "outputs": [
    {
     "data": {
      "text/plain": [
       "0     0.697741\n",
       "1     0.525116\n",
       "2     0.545003\n",
       "3     0.692816\n",
       "4     0.457930\n",
       "5     0.359801\n",
       "6     0.461989\n",
       "7     0.315771\n",
       "8     0.490485\n",
       "9     0.428895\n",
       "10    0.669433\n",
       "11    0.294186\n",
       "12    0.603710\n",
       "13    0.517595\n",
       "14    0.442430\n",
       "15    0.583103\n",
       "16    0.683023\n",
       "17    0.505508\n",
       "18    0.506476\n",
       "19    0.355762\n",
       "20    0.302428\n",
       "21    0.292831\n",
       "22    0.054839\n",
       "23    0.251980\n",
       "24    0.439162\n",
       "25    0.346069\n",
       "26    0.717094\n",
       "27    0.573125\n",
       "28    0.496748\n",
       "29    0.452190\n",
       "30    0.556708\n",
       "31    0.442439\n",
       "32    0.613101\n",
       "33    0.533443\n",
       "34    0.404268\n",
       "35    0.594605\n",
       "36    0.536038\n",
       "37    0.537847\n",
       "38    0.326311\n",
       "Name: 1499, dtype: float64"
      ]
     },
     "execution_count": 59,
     "metadata": {},
     "output_type": "execute_result"
    }
   ],
   "source": [
    "x_scaled.iloc[1499]"
   ]
  },
  {
   "cell_type": "code",
   "execution_count": 61,
   "metadata": {
    "colab": {
     "base_uri": "https://localhost:8080/"
    },
    "id": "cwIGdou9iwVE",
    "outputId": "0887d895-7fd8-448e-d435-3b2f328480c4"
   },
   "outputs": [
    {
     "data": {
      "text/plain": [
       "1"
      ]
     },
     "execution_count": 61,
     "metadata": {},
     "output_type": "execute_result"
    }
   ],
   "source": [
    "y[1500]"
   ]
  },
  {
   "cell_type": "code",
   "execution_count": 62,
   "metadata": {
    "colab": {
     "base_uri": "https://localhost:8080/"
    },
    "id": "qYk0uNB_jAON",
    "outputId": "b36c0c3c-ec23-48bc-a049-4e49fbf3b790"
   },
   "outputs": [
    {
     "data": {
      "text/plain": [
       "0"
      ]
     },
     "execution_count": 62,
     "metadata": {},
     "output_type": "execute_result"
    }
   ],
   "source": [
    "y[1499]"
   ]
  },
  {
   "cell_type": "code",
   "execution_count": null,
   "metadata": {
    "id": "l0iIQWf6jDJT"
   },
   "outputs": [],
   "source": []
  },
  {
   "cell_type": "code",
   "execution_count": 65,
   "metadata": {
    "colab": {
     "base_uri": "https://localhost:8080/"
    },
    "id": "ORxTMRbvjHbs",
    "outputId": "6646d68d-7e94-4693-9293-43b8fafba718"
   },
   "outputs": [
    {
     "name": "stdout",
     "output_type": "stream",
     "text": [
      "1/1 [==============================] - 0s 27ms/step\n",
      "[[1]]\n"
     ]
    }
   ],
   "source": [
    "input_sample=[0.697741, 0.525116, 0.545003, 0.692816, 0.457930, 0.359801, 0.461989, 0.315771, 0.490485, 0.428895, 0.669433, 0.294186, 0.603710, 0.517595, 0.442430, 0.583103, 0.683023, 0.505508, 0.506476, 0.355762, 0.302428, 0.292831, 0.054839, 0.251980, 0.439162, 0.346069, 0.717094, 0.573125, 0.496748, 0.452190, 0.556708, 0.442439, 0.613101, 0.533443, 0.404268, 0.594605, 0.536038, 0.537847, 0.326311]\n",
    "len(input_sample)\n",
    "input_sample = np.array(input_sample).reshape(1, 39, 1)\n",
    "predictions = model.predict(input_sample)\n",
    "predictions\n",
    "threshold = 0.5\n",
    "binary_prediction = (predictions > threshold).astype(int)\n",
    "print(binary_prediction)"
   ]
  },
  {
   "cell_type": "code",
   "execution_count": 66,
   "metadata": {
    "colab": {
     "base_uri": "https://localhost:8080/"
    },
    "id": "VVZr35n6jK1K",
    "outputId": "506472e1-c5ac-4850-d589-0fc4c2ccaf9d"
   },
   "outputs": [
    {
     "data": {
      "text/plain": [
       "0     0.424043\n",
       "1     0.305698\n",
       "2     0.690256\n",
       "3     0.436182\n",
       "4     0.643063\n",
       "5     0.509027\n",
       "6     0.408220\n",
       "7     0.578044\n",
       "8     0.228387\n",
       "9     0.631059\n",
       "10    0.229115\n",
       "11    0.380609\n",
       "12    0.389912\n",
       "13    0.533972\n",
       "14    0.431537\n",
       "15    0.428808\n",
       "16    0.517256\n",
       "17    0.418906\n",
       "18    0.442658\n",
       "19    0.406062\n",
       "20    0.347931\n",
       "21    0.284060\n",
       "22    0.271659\n",
       "23    0.269433\n",
       "24    0.349462\n",
       "25    0.288085\n",
       "26    0.496521\n",
       "27    0.374076\n",
       "28    0.615535\n",
       "29    0.466287\n",
       "30    0.528973\n",
       "31    0.481007\n",
       "32    0.434609\n",
       "33    0.573221\n",
       "34    0.578548\n",
       "35    0.552295\n",
       "36    0.537796\n",
       "37    0.516028\n",
       "38    0.479719\n",
       "Name: 1300, dtype: float64"
      ]
     },
     "execution_count": 66,
     "metadata": {},
     "output_type": "execute_result"
    }
   ],
   "source": [
    "x_scaled.iloc[1300]"
   ]
  },
  {
   "cell_type": "code",
   "execution_count": 67,
   "metadata": {
    "colab": {
     "base_uri": "https://localhost:8080/"
    },
    "id": "yedf_fcWjeFr",
    "outputId": "5f64e542-dc88-4730-93db-4c0a2cfaf6ef"
   },
   "outputs": [
    {
     "name": "stdout",
     "output_type": "stream",
     "text": [
      "1/1 [==============================] - 0s 24ms/step\n",
      "[[0]]\n"
     ]
    }
   ],
   "source": [
    "\n",
    "input_sample=[0.424043, 0.305698, 0.690256, 0.436182, 0.643063, 0.509027, 0.408220, 0.578044, 0.228387, 0.631059, 0.229115, 0.380609, 0.389912, 0.533972, 0.431537, 0.428808, 0.517256, 0.418906, 0.442658, 0.406062, 0.347931, 0.284060, 0.271659, 0.269433, 0.349462, 0.288085, 0.496521, 0.374076, 0.615535, 0.466287, 0.528973, 0.481007, 0.434609, 0.573221, 0.578548, 0.552295, 0.537796, 0.516028, 0.479719]\n",
    "len(input_sample)\n",
    "input_sample = np.array(input_sample).reshape(1, 39, 1)\n",
    "predictions = model.predict(input_sample)\n",
    "predictions\n",
    "threshold = 0.5\n",
    "binary_prediction = (predictions > threshold).astype(int)\n",
    "print(binary_prediction)"
   ]
  },
  {
   "cell_type": "code",
   "execution_count": 68,
   "metadata": {
    "colab": {
     "base_uri": "https://localhost:8080/"
    },
    "id": "XeCusYsmj0UO",
    "outputId": "eb9c9d81-6ddd-4b72-a637-c96888ba345a"
   },
   "outputs": [
    {
     "data": {
      "text/plain": [
       "0     0.782805\n",
       "1     0.565195\n",
       "2     0.440775\n",
       "3     0.157096\n",
       "4     0.445675\n",
       "5     0.406131\n",
       "6     0.779606\n",
       "7     0.689936\n",
       "8     0.640176\n",
       "9     0.716727\n",
       "10    0.581536\n",
       "11    0.490753\n",
       "12    0.638979\n",
       "13    0.443835\n",
       "14    0.454264\n",
       "15    0.622504\n",
       "16    0.547735\n",
       "17    0.487173\n",
       "18    0.633079\n",
       "19    0.501075\n",
       "20    0.478202\n",
       "21    0.524390\n",
       "22    0.428682\n",
       "23    0.470188\n",
       "24    0.721333\n",
       "25    0.540080\n",
       "26    0.552329\n",
       "27    0.328136\n",
       "28    0.157562\n",
       "29    0.056421\n",
       "30    0.254272\n",
       "31    0.340139\n",
       "32    0.471551\n",
       "33    0.291605\n",
       "34    0.079785\n",
       "35    0.220664\n",
       "36    0.378414\n",
       "37    0.504264\n",
       "38    0.095717\n",
       "Name: 2500, dtype: float64"
      ]
     },
     "execution_count": 68,
     "metadata": {},
     "output_type": "execute_result"
    }
   ],
   "source": [
    "x_scaled.iloc[2500]"
   ]
  },
  {
   "cell_type": "code",
   "execution_count": 71,
   "metadata": {
    "colab": {
     "base_uri": "https://localhost:8080/"
    },
    "id": "rTq-qwr2kVRo",
    "outputId": "2d214958-df8f-4e75-ebbe-ad8bae582356"
   },
   "outputs": [
    {
     "name": "stdout",
     "output_type": "stream",
     "text": [
      "1/1 [==============================] - 0s 32ms/step\n",
      "[[1]]\n"
     ]
    }
   ],
   "source": [
    "\n",
    "input_sample=[0.782805,0.565195, 0.440775, 0.157096, 0.445675, 0.406131, 0.779606, 0.689936, 0.640176, 0.716727, 0.581536, 0.490753, 0.638979, 0.443835, 0.454264, 0.622504, 0.547735, 0.487173, 0.633079, 0.501075, 0.478202, 0.524390, 0.428682, 0.470188, 0.721333, 0.540080, 0.552329, 0.328136, 0.157562, 0.056421, 0.254272, 0.340139, 0.471551, 0.291605, 0.079785, 0.220664, 0.378414, 0.504264, 0.095717]\n",
    "len(input_sample)\n",
    "input_sample = np.array(input_sample).reshape(1, 39, 1)\n",
    "predictions = model.predict(input_sample)\n",
    "predictions\n",
    "threshold = 0.5\n",
    "binary_prediction = (predictions > threshold).astype(int)\n",
    "print(binary_prediction)"
   ]
  },
  {
   "cell_type": "code",
   "execution_count": 73,
   "metadata": {
    "id": "fMEbJDMJks_0"
   },
   "outputs": [],
   "source": [
    "model.save('CNN_Age_Estimation.h5')"
   ]
  },
  {
   "cell_type": "code",
   "execution_count": null,
   "metadata": {
    "id": "wm3-xFNclNeT"
   },
   "outputs": [],
   "source": []
  }
 ],
 "metadata": {
  "colab": {
   "provenance": []
  },
  "kernelspec": {
   "display_name": "Python 3",
   "language": "python",
   "name": "python3"
  },
  "language_info": {
   "codemirror_mode": {
    "name": "ipython",
    "version": 3
   },
   "file_extension": ".py",
   "mimetype": "text/x-python",
   "name": "python",
   "nbconvert_exporter": "python",
   "pygments_lexer": "ipython3",
   "version": "3.8.8"
  }
 },
 "nbformat": 4,
 "nbformat_minor": 1
}
