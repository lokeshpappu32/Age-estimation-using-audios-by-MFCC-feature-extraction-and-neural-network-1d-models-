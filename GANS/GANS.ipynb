{
  "nbformat": 4,
  "nbformat_minor": 0,
  "metadata": {
    "colab": {
      "provenance": [],
      "gpuType": "T4"
    },
    "kernelspec": {
      "name": "python3",
      "display_name": "Python 3"
    },
    "language_info": {
      "name": "python"
    },
    "accelerator": "GPU"
  },
  "cells": [
    {
      "cell_type": "code",
      "execution_count": 2,
      "metadata": {
        "id": "XHC_rwlH6Lrk"
      },
      "outputs": [],
      "source": [
        "import tensorflow as tf\n",
        "import pandas as pd\n",
        "import numpy as np\n",
        "from tensorflow.keras.layers import Dense, Input\n",
        "from tensorflow.keras.models import Model\n",
        "from tensorflow.keras.optimizers import Adam\n",
        "from sklearn.preprocessing import MinMaxScaler, LabelEncoder\n",
        "\n",
        "data = pd.read_excel(\"/content/Main Data Set.xlsx\")\n",
        "x = data.iloc[:, :-2]\n",
        "y = data.iloc[:, -1]\n",
        "\n",
        "scaler = MinMaxScaler()\n",
        "x_scaled = scaler.fit_transform(x)\n",
        "\n",
        "label_encoder = LabelEncoder()\n",
        "y_encoded = label_encoder.fit_transform(y)"
      ]
    },
    {
      "cell_type": "code",
      "source": [
        "# Generator\n",
        "latent_dim = 100  # Dimensionality of the generator input\n",
        "generator_input_shape = (latent_dim,)\n",
        "generator_inputs = Input(shape=generator_input_shape)\n",
        "generator_dense = Dense(64, activation='relu')(generator_inputs)\n",
        "generator_output = Dense(x_scaled.shape[1], activation='tanh')(generator_dense)\n",
        "\n",
        "generator = Model(inputs=generator_inputs, outputs=generator_output)"
      ],
      "metadata": {
        "id": "RXSGtevA7g_3"
      },
      "execution_count": 3,
      "outputs": []
    },
    {
      "cell_type": "code",
      "source": [
        "# Discriminator\n",
        "data_dim = x_scaled.shape[1]\n",
        "discriminator_input_shape = (data_dim,)\n",
        "discriminator_inputs = Input(shape=discriminator_input_shape)\n",
        "discriminator_dense = Dense(64, activation='relu')(discriminator_inputs)\n",
        "discriminator_output = Dense(1, activation='sigmoid')(discriminator_dense)\n",
        "\n",
        "discriminator = Model(inputs=discriminator_inputs, outputs=discriminator_output)\n"
      ],
      "metadata": {
        "id": "6SZ_9uQM7kV3"
      },
      "execution_count": 4,
      "outputs": []
    },
    {
      "cell_type": "code",
      "source": [
        "# Combined model (Generator + Discriminator)\n",
        "combined_input = Input(shape=generator_input_shape)\n",
        "combined_output = discriminator(generator(combined_input))\n",
        "\n",
        "combined = Model(inputs=combined_input, outputs=combined_output)\n"
      ],
      "metadata": {
        "id": "qV6EBPwb7nTj"
      },
      "execution_count": 5,
      "outputs": []
    },
    {
      "cell_type": "code",
      "source": [
        "# Compile the models\n",
        "generator.compile(optimizer=Adam(learning_rate=0.001), loss='binary_crossentropy')\n",
        "discriminator.compile(optimizer=Adam(learning_rate=0.001), loss='binary_crossentropy')\n",
        "combined.compile(optimizer=Adam(learning_rate=0.001), loss='binary_crossentropy')\n"
      ],
      "metadata": {
        "id": "I6cv4wLB7p-M"
      },
      "execution_count": 6,
      "outputs": []
    },
    {
      "cell_type": "code",
      "source": [
        "# Training loop\n",
        "num_epochs = 30\n",
        "batch_size = 32\n"
      ],
      "metadata": {
        "id": "wqBs42_M7r-p"
      },
      "execution_count": 7,
      "outputs": []
    },
    {
      "cell_type": "code",
      "source": [
        "for epoch in range(num_epochs):\n",
        "    # Train the discriminator\n",
        "    real_data = x_scaled[np.random.randint(0, x_scaled.shape[0], batch_size)]\n",
        "    noise = np.random.normal(0, 1, (batch_size, latent_dim))\n",
        "    fake_data = generator.predict(noise)\n",
        "\n",
        "    discriminator_loss_real = discriminator.train_on_batch(real_data, np.ones((batch_size, 1)))\n",
        "    discriminator_loss_fake = discriminator.train_on_batch(fake_data, np.zeros((batch_size, 1)))\n",
        "    discriminator_loss = 0.5 * (discriminator_loss_real + discriminator_loss_fake)\n",
        "\n",
        "    # Train the generator\n",
        "    noise = np.random.normal(0, 1, (batch_size, latent_dim))\n",
        "    generator_loss = combined.train_on_batch(noise, np.ones((batch_size, 1)))\n",
        "\n",
        "    # Print the losses\n",
        "    print(f\"Epoch: {epoch+1}/{num_epochs}, Discriminator Loss: {discriminator_loss}, Generator Loss: {generator_loss}\")\n"
      ],
      "metadata": {
        "colab": {
          "base_uri": "https://localhost:8080/"
        },
        "id": "FIukS_zB7vTK",
        "outputId": "f537725a-024a-4284-f9e9-c0d2d6f9af1d"
      },
      "execution_count": 8,
      "outputs": [
        {
          "output_type": "stream",
          "name": "stdout",
          "text": [
            "1/1 [==============================] - 3s 3s/step\n",
            "Epoch: 1/30, Discriminator Loss: 0.7150730788707733, Generator Loss: 0.7100780010223389\n",
            "1/1 [==============================] - 0s 19ms/step\n",
            "Epoch: 2/30, Discriminator Loss: 0.7166656255722046, Generator Loss: 0.6795130968093872\n",
            "1/1 [==============================] - 0s 18ms/step\n",
            "Epoch: 3/30, Discriminator Loss: 0.689085066318512, Generator Loss: 0.6455501317977905\n",
            "1/1 [==============================] - 0s 16ms/step\n",
            "Epoch: 4/30, Discriminator Loss: 0.6958202719688416, Generator Loss: 0.5862948894500732\n",
            "1/1 [==============================] - 0s 18ms/step\n",
            "Epoch: 5/30, Discriminator Loss: 0.6363355219364166, Generator Loss: 0.5694261789321899\n",
            "1/1 [==============================] - 0s 20ms/step\n",
            "Epoch: 6/30, Discriminator Loss: 0.6388570666313171, Generator Loss: 0.546149492263794\n",
            "1/1 [==============================] - 0s 17ms/step\n",
            "Epoch: 7/30, Discriminator Loss: 0.667407363653183, Generator Loss: 0.5012349486351013\n",
            "1/1 [==============================] - 0s 19ms/step\n",
            "Epoch: 8/30, Discriminator Loss: 0.6426385939121246, Generator Loss: 0.49215131998062134\n",
            "1/1 [==============================] - 0s 19ms/step\n",
            "Epoch: 9/30, Discriminator Loss: 0.6722313612699509, Generator Loss: 0.48669910430908203\n",
            "1/1 [==============================] - 0s 19ms/step\n",
            "Epoch: 10/30, Discriminator Loss: 0.6582174450159073, Generator Loss: 0.4442148804664612\n",
            "1/1 [==============================] - 0s 17ms/step\n",
            "Epoch: 11/30, Discriminator Loss: 0.6823240593075752, Generator Loss: 0.39668458700180054\n",
            "1/1 [==============================] - 0s 18ms/step\n",
            "Epoch: 12/30, Discriminator Loss: 0.6566501259803772, Generator Loss: 0.4032239615917206\n",
            "1/1 [==============================] - 0s 18ms/step\n",
            "Epoch: 13/30, Discriminator Loss: 0.7023882791399956, Generator Loss: 0.4084029793739319\n",
            "1/1 [==============================] - 0s 18ms/step\n",
            "Epoch: 14/30, Discriminator Loss: 0.7271859645843506, Generator Loss: 0.3696210980415344\n",
            "1/1 [==============================] - 0s 18ms/step\n",
            "Epoch: 15/30, Discriminator Loss: 0.7432772368192673, Generator Loss: 0.3784186840057373\n",
            "1/1 [==============================] - 0s 19ms/step\n",
            "Epoch: 16/30, Discriminator Loss: 0.7012265175580978, Generator Loss: 0.3589552938938141\n",
            "1/1 [==============================] - 0s 18ms/step\n",
            "Epoch: 17/30, Discriminator Loss: 0.6907485648989677, Generator Loss: 0.3199763298034668\n",
            "1/1 [==============================] - 0s 16ms/step\n",
            "Epoch: 18/30, Discriminator Loss: 0.7577320784330368, Generator Loss: 0.3091621994972229\n",
            "1/1 [==============================] - 0s 16ms/step\n",
            "Epoch: 19/30, Discriminator Loss: 0.7474051937460899, Generator Loss: 0.30700767040252686\n",
            "1/1 [==============================] - 0s 17ms/step\n",
            "Epoch: 20/30, Discriminator Loss: 0.7770061120390892, Generator Loss: 0.31771281361579895\n",
            "1/1 [==============================] - 0s 18ms/step\n",
            "Epoch: 21/30, Discriminator Loss: 0.7667239159345627, Generator Loss: 0.2773295044898987\n",
            "1/1 [==============================] - 0s 17ms/step\n",
            "Epoch: 22/30, Discriminator Loss: 0.8226788938045502, Generator Loss: 0.28329724073410034\n",
            "1/1 [==============================] - 0s 15ms/step\n",
            "Epoch: 23/30, Discriminator Loss: 0.8332107812166214, Generator Loss: 0.2734484076499939\n",
            "1/1 [==============================] - 0s 16ms/step\n",
            "Epoch: 24/30, Discriminator Loss: 0.8274618461728096, Generator Loss: 0.2660636901855469\n",
            "1/1 [==============================] - 0s 24ms/step\n",
            "Epoch: 25/30, Discriminator Loss: 0.8188716694712639, Generator Loss: 0.2665420174598694\n",
            "1/1 [==============================] - 0s 16ms/step\n",
            "Epoch: 26/30, Discriminator Loss: 0.8840807527303696, Generator Loss: 0.28901833295822144\n",
            "1/1 [==============================] - 0s 15ms/step\n",
            "Epoch: 27/30, Discriminator Loss: 0.8329727128148079, Generator Loss: 0.24624811112880707\n",
            "1/1 [==============================] - 0s 18ms/step\n",
            "Epoch: 28/30, Discriminator Loss: 0.836333379149437, Generator Loss: 0.27690571546554565\n",
            "1/1 [==============================] - 0s 17ms/step\n",
            "Epoch: 29/30, Discriminator Loss: 0.8589479178190231, Generator Loss: 0.2442435324192047\n",
            "1/1 [==============================] - 0s 20ms/step\n",
            "Epoch: 30/30, Discriminator Loss: 0.8635042905807495, Generator Loss: 0.24998106062412262\n"
          ]
        }
      ]
    },
    {
      "cell_type": "code",
      "source": [
        "# Generate samples from the generator\n",
        "num_samples = 10\n",
        "noise = np.random.normal(0, 1, (num_samples, latent_dim))\n",
        "generated_samples = generator.predict(noise)\n",
        "\n",
        "# Convert generated samples back to original scale\n",
        "generated_samples = scaler.inverse_transform(generated_samples)"
      ],
      "metadata": {
        "colab": {
          "base_uri": "https://localhost:8080/"
        },
        "id": "1F37N8sV7yOX",
        "outputId": "556184c9-d02b-411f-802c-df151cb62fe2"
      },
      "execution_count": 9,
      "outputs": [
        {
          "output_type": "stream",
          "name": "stdout",
          "text": [
            "1/1 [==============================] - 0s 42ms/step\n"
          ]
        }
      ]
    },
    {
      "cell_type": "code",
      "source": [
        "# Print generated samples\n",
        "print(\"Generated Samples:\")\n",
        "print(generated_samples)"
      ],
      "metadata": {
        "colab": {
          "base_uri": "https://localhost:8080/"
        },
        "id": "OXNC0BUC75r6",
        "outputId": "2af20b78-410d-42f5-a2e8-73d2fd06ad73"
      },
      "execution_count": 10,
      "outputs": [
        {
          "output_type": "stream",
          "name": "stdout",
          "text": [
            "Generated Samples:\n",
            "[[-4.26313416e+02  6.36648827e+01 -1.49565134e+01 -6.99190903e+01\n",
            "   2.84823456e+01 -4.87243042e+01 -8.10649490e+01  9.88577127e-01\n",
            "   1.31514997e+01 -5.72720451e+01 -6.19182549e+01 -2.34318581e+01\n",
            "  -4.90401230e+01 -5.69962196e+01 -8.19638920e+00  5.26297140e+00\n",
            "   6.36754274e-01 -1.98074627e+01 -2.79168034e+01 -1.62242401e+00\n",
            "  -1.58375759e+01 -3.39308205e+01 -4.92911758e+01  1.63362179e+01\n",
            "   1.87164021e+01 -2.35190868e+01  1.86038342e+01  2.04668121e+01\n",
            "  -3.25481873e+01 -1.01147690e+01 -3.95093651e+01 -7.24769258e+00\n",
            "   1.05133152e+01 -7.81134892e+00 -1.21058273e+01 -3.02799702e+00\n",
            "   6.25444078e+00  3.34824562e+00 -2.33560505e+01]\n",
            " [-1.85441315e+02  8.76640320e+01 -3.63428092e+00 -8.11708908e+01\n",
            "   2.02120018e+00 -5.97188568e+01 -1.02377129e+02 -1.69070077e+00\n",
            "   1.68029938e+01 -2.28826656e+01 -7.43548889e+01  8.38896275e+00\n",
            "  -6.12182274e+01 -5.32765236e+01 -5.85506897e+01 -4.11669769e+01\n",
            "  -1.76772842e+01 -5.61194754e+00  5.67931700e+00  9.82296944e+00\n",
            "   1.20655584e+00 -4.16365395e+01 -4.65508347e+01  2.26551189e+01\n",
            "   1.83940430e+01 -3.07822056e+01 -2.52621918e+01 -4.93026227e-01\n",
            "  -2.86711674e+01  1.76926746e+01 -3.97856979e+01  9.05684948e+00\n",
            "   4.52179718e+00 -1.59979696e+01  5.57416856e-01 -2.23301525e+01\n",
            "   6.23239613e+00 -1.21595860e+01 -2.00344515e+00]\n",
            " [-2.54982956e+02  2.35721365e-01 -3.79536018e+01  2.83676491e+01\n",
            "   1.94233551e+01  1.85859859e+00 -4.52376175e+01  7.81425524e+00\n",
            "   1.62398338e+01 -5.72997551e+01 -4.38926773e+01 -1.00608377e+01\n",
            "  -2.72500725e+01 -4.08005562e+01  3.74558687e+00  3.78934717e+00\n",
            "  -2.75066509e+01 -2.56655502e+01 -3.08332672e+01 -2.17645645e+00\n",
            "  -2.23339348e+01 -2.26973953e+01 -1.18556776e+01  2.07398682e+01\n",
            "   1.83318024e+01 -2.64021873e+00  1.77070446e+01  1.86824055e+01\n",
            "  -3.65486565e+01  1.31208239e+01 -3.27982445e+01 -1.24133024e+01\n",
            "   7.46067858e+00  7.38789082e+00 -1.32400799e+01 -3.27707553e+00\n",
            "   3.36782384e+00 -1.04708338e+00 -1.14729109e+01]\n",
            " [-2.67272552e+02 -4.00082588e+01  1.85517273e+01 -9.07270660e+01\n",
            "   2.86000767e+01  6.34545183e+00 -4.99032288e+01  1.02262983e+01\n",
            "   1.65036697e+01 -4.40300903e+01 -1.38526316e+01 -1.06504307e+01\n",
            "  -4.52492409e+01 -5.21825371e+01  4.50413799e+00 -4.77280706e-01\n",
            "   4.01253510e+00 -3.97769012e+01 -4.30890770e+01 -2.50527406e+00\n",
            "   1.60987425e+00 -3.73888817e+01 -4.00783424e+01  2.19242210e+01\n",
            "   1.20386429e+01 -2.76910229e+01 -1.41557932e+01  6.79240370e+00\n",
            "  -3.49305077e+01  1.72100201e+01 -3.84833794e+01 -1.25817966e+01\n",
            "   9.57346249e+00  7.26722181e-01 -6.85543013e+00 -3.29481053e+00\n",
            "   1.11308074e+00 -4.35705066e-01 -1.63480167e+01]\n",
            " [-2.12641083e+02  1.13356926e+02 -3.48785362e+01 -1.58643043e+00\n",
            "   2.82991905e+01 -4.24286118e+01 -7.08300476e+01 -2.22998562e+01\n",
            "   1.11852484e+01 -7.54099350e+01 -2.18495007e+01 -2.55212688e+01\n",
            "  -1.25346737e+01 -3.15351791e+01 -3.51467323e+01 -1.99375057e+01\n",
            "  -3.37559509e+01  1.47307611e+00 -4.20280933e+00  2.12419152e+00\n",
            "  -2.49462929e+01 -1.09842482e+01 -3.19798183e+01  1.19841993e+00\n",
            "   1.47453461e+01 -3.04624901e+01  1.02597218e+01 -1.63433933e+01\n",
            "  -3.66241035e+01  1.72272663e+01 -3.85463104e+01 -2.09928398e+01\n",
            "   8.14313316e+00  3.40777135e+00  3.93262339e+00  2.49606895e+00\n",
            "   5.24041891e+00  5.88804531e+00 -6.78449106e+00]\n",
            " [-5.54609680e+02 -4.88430672e+01 -5.14476852e+01  5.15707817e+01\n",
            "   3.16373520e+01  3.29348068e+01 -7.55319824e+01 -4.00243835e+01\n",
            "   1.67479916e+01 -5.15803099e+00 -7.21425247e+01 -5.57038383e+01\n",
            "   9.43919945e+00 -2.94980564e+01  4.90660191e+00  8.54978371e+00\n",
            "  -1.46011181e+01 -1.05162325e+01 -1.27003610e-01  2.49225831e+00\n",
            "  -3.56579995e+00 -4.46772385e+01 -3.86997986e+01  6.32501173e+00\n",
            "   2.09308505e+00  1.21278954e+01  1.80789337e+01  2.00762138e+01\n",
            "  -1.58274956e+01  1.37402334e+01 -3.83820801e+01 -2.08553562e+01\n",
            "   7.71337461e+00  7.98391342e+00 -7.12207270e+00 -2.20773621e+01\n",
            "   5.98121881e+00 -7.43737411e+00 -2.10932159e+01]\n",
            " [-5.27069946e+02 -1.07299339e+02 -1.81470352e+02  1.26996088e+01\n",
            "   2.60029469e+01 -1.17730331e+01 -2.82749538e+01 -6.66313629e+01\n",
            "   1.26471519e+01 -9.25218658e+01 -7.60978928e+01  1.34790764e+01\n",
            "  -3.33593597e+01 -4.59599152e+01 -2.53073740e+00 -1.24354973e+01\n",
            "  -9.37731743e+00 -1.88621864e+01  3.17318296e+00  8.39022160e+00\n",
            "  -2.37166386e+01 -1.19622917e+01 -2.76749325e+00  7.11452770e+00\n",
            "   1.50034342e+01 -3.10980186e+01  1.83335800e+01  1.99445972e+01\n",
            "  -2.29587612e+01  6.48572159e+00 -3.65192986e+01 -2.71774330e+01\n",
            "   4.36586952e+00  5.16894436e+00 -6.35342979e+00 -1.98322449e+01\n",
            "   6.00092554e+00 -5.96731853e+00 -1.65013447e+01]\n",
            " [-2.42008530e+02 -8.51132736e+01 -9.39318542e+01  5.95556755e+01\n",
            "  -3.73452425e+00 -8.22492676e+01 -9.73603287e+01 -2.11963921e+01\n",
            "   1.83034134e+00 -8.67150269e+01 -2.10829010e+01  5.32671356e+00\n",
            "  -1.83022041e+01 -4.15278893e+01 -5.57587194e+00  2.99674964e+00\n",
            "  -3.72589445e+00  1.34324408e+00  7.79619026e+00 -7.41022646e-01\n",
            "   8.21093178e+00 -1.00979862e+01 -4.06205788e+01  2.04037132e+01\n",
            "   1.40847206e+01 -2.05160141e+00  1.26420078e+01  1.71054153e+01\n",
            "  -2.76583042e+01 -9.47385788e+00 -3.43088722e+01 -4.62966919e+00\n",
            "   9.04261303e+00 -1.28925717e+00 -1.85891552e+01 -4.11455488e+00\n",
            "  -1.34197874e+01 -1.68385239e+01 -1.76668491e+01]\n",
            " [-3.40178040e+02  1.60687286e+02 -7.47292862e+01 -2.26750927e+01\n",
            "   2.95997181e+01  3.32134819e+01 -2.30321331e+01  6.44225693e+00\n",
            "   1.62443123e+01  5.35309982e+00 -7.07789383e+01  1.85465374e+01\n",
            "  -1.66030178e+01 -3.72858505e+01 -3.46721911e+00 -1.00249701e+01\n",
            "  -1.82471046e+01 -6.05548680e-01 -3.81510468e+01  3.91102290e+00\n",
            "  -4.15058517e+01 -5.66695595e+01 -2.25950794e+01  1.66276283e+01\n",
            "   6.86859894e+00 -2.37883453e+01  1.92116680e+01  1.69356937e+01\n",
            "  -2.85738029e+01 -2.53202801e+01 -4.71098804e+00 -2.23828125e+01\n",
            "   1.17843139e+00 -8.46005821e+00  8.23563766e+00 -1.59594746e+01\n",
            "   6.25095081e+00  1.70017314e+00 -2.91799283e+00]\n",
            " [-2.50576462e+02  1.26998566e+02  4.35377836e+00  2.11198616e+01\n",
            "   1.50484200e+01 -8.35082397e+01 -1.03350624e+02  1.01025305e+01\n",
            "   5.52753544e+00 -5.35826111e+01 -5.48672066e+01  6.57347488e+00\n",
            "  -2.43220654e+01 -5.92705765e+01 -4.88687477e+01 -2.63983269e+01\n",
            "   2.66765738e+00 -3.25078773e+01 -1.23081245e+01  9.20778656e+00\n",
            "   7.41792822e+00 -4.78995705e+01 -2.50298862e+01  1.74300747e+01\n",
            "   1.82315483e+01 -1.95797195e+01 -1.46014814e+01  1.39030275e+01\n",
            "  -3.67594147e+01 -1.50745878e+01 -3.98450966e+01  1.14882965e+01\n",
            "   1.03964520e+01 -2.63840141e+01 -1.40708132e+01 -1.95516753e+00\n",
            "   3.34119487e+00 -1.00083694e+01 -9.33139515e+00]]\n"
          ]
        }
      ]
    },
    {
      "cell_type": "code",
      "source": [
        "from tensorflow.keras.layers import Dense, Input, Dropout\n",
        "from tensorflow.keras.models import Model\n",
        "from tensorflow.keras.optimizers import Adam\n",
        "from sklearn.model_selection import train_test_split\n",
        "from sklearn.preprocessing import MinMaxScaler, LabelEncoder\n",
        "from sklearn.metrics import classification_report\n",
        "from sklearn.utils import class_weight\n",
        "from sklearn.utils.class_weight import compute_class_weight\n",
        "from tensorflow.keras.callbacks import EarlyStopping\n",
        "x_train, x_test, y_train, y_test = train_test_split(x_scaled, y_encoded, test_size=0.2, random_state=42)\n",
        "input_shape = (x_train.shape[1],)\n",
        "\n",
        "class_weights = dict(enumerate(class_weight.compute_class_weight('balanced', classes=np.unique(y_train), y=y_train)))\n",
        "\n",
        "inputs = Input(shape=input_shape)\n",
        "x = Dense(256, activation='relu')(inputs)\n",
        "x = Dropout(0.5)(x)\n",
        "x = Dense(128, activation='relu')(x)\n",
        "x = Dropout(0.5)(x)\n",
        "x = Dense(64, activation='tanh')(x)  # Change activation function to 'tanh'\n",
        "x = Dropout(0.5)(x)\n",
        "x = Dense(32, activation='sigmoid')(x)  # Change activation function to 'sigmoid'\n",
        "x = Dropout(0.5)(x)\n",
        "outputs = Dense(1, activation='sigmoid')(x)\n",
        "\n",
        "model = Model(inputs=inputs, outputs=outputs)\n",
        "model.compile(optimizer=Adam(learning_rate=0.001), loss='binary_crossentropy', metrics=['accuracy'])\n",
        "\n",
        "early_stopping = EarlyStopping(patience=10, restore_best_weights=True)\n",
        "\n",
        "model.fit(x_train, y_train, validation_data=(x_test, y_test), batch_size=32, epochs=15, callbacks=[early_stopping])\n",
        "\n"
      ],
      "metadata": {
        "id": "xOAUqCkA79F2",
        "colab": {
          "base_uri": "https://localhost:8080/"
        },
        "outputId": "157d1273-d2cc-4012-c341-9fa595eeb2d1"
      },
      "execution_count": 15,
      "outputs": [
        {
          "output_type": "stream",
          "name": "stdout",
          "text": [
            "Epoch 1/15\n",
            "75/75 [==============================] - 3s 6ms/step - loss: 0.6766 - accuracy: 0.5804 - val_loss: 0.3087 - val_accuracy: 0.9783\n",
            "Epoch 2/15\n",
            "75/75 [==============================] - 0s 4ms/step - loss: 0.2459 - accuracy: 0.9283 - val_loss: 0.0669 - val_accuracy: 0.9867\n",
            "Epoch 3/15\n",
            "75/75 [==============================] - 0s 4ms/step - loss: 0.1107 - accuracy: 0.9733 - val_loss: 0.0387 - val_accuracy: 0.9950\n",
            "Epoch 4/15\n",
            "75/75 [==============================] - 0s 4ms/step - loss: 0.0982 - accuracy: 0.9750 - val_loss: 0.0315 - val_accuracy: 0.9950\n",
            "Epoch 5/15\n",
            "75/75 [==============================] - 0s 5ms/step - loss: 0.0847 - accuracy: 0.9779 - val_loss: 0.0267 - val_accuracy: 0.9950\n",
            "Epoch 6/15\n",
            "75/75 [==============================] - 0s 4ms/step - loss: 0.0795 - accuracy: 0.9804 - val_loss: 0.0293 - val_accuracy: 0.9950\n",
            "Epoch 7/15\n",
            "75/75 [==============================] - 0s 4ms/step - loss: 0.0719 - accuracy: 0.9833 - val_loss: 0.0223 - val_accuracy: 0.9950\n",
            "Epoch 8/15\n",
            "75/75 [==============================] - 0s 4ms/step - loss: 0.0695 - accuracy: 0.9829 - val_loss: 0.0190 - val_accuracy: 0.9967\n",
            "Epoch 9/15\n",
            "75/75 [==============================] - 0s 4ms/step - loss: 0.0605 - accuracy: 0.9842 - val_loss: 0.0230 - val_accuracy: 0.9950\n",
            "Epoch 10/15\n",
            "75/75 [==============================] - 0s 4ms/step - loss: 0.0563 - accuracy: 0.9850 - val_loss: 0.0362 - val_accuracy: 0.9917\n",
            "Epoch 11/15\n",
            "75/75 [==============================] - 0s 5ms/step - loss: 0.0587 - accuracy: 0.9858 - val_loss: 0.0143 - val_accuracy: 0.9967\n",
            "Epoch 12/15\n",
            "75/75 [==============================] - 0s 4ms/step - loss: 0.0510 - accuracy: 0.9879 - val_loss: 0.0216 - val_accuracy: 0.9933\n",
            "Epoch 13/15\n",
            "75/75 [==============================] - 0s 4ms/step - loss: 0.0466 - accuracy: 0.9896 - val_loss: 0.0166 - val_accuracy: 0.9967\n",
            "Epoch 14/15\n",
            "75/75 [==============================] - 0s 4ms/step - loss: 0.0384 - accuracy: 0.9917 - val_loss: 0.0149 - val_accuracy: 0.9950\n",
            "Epoch 15/15\n",
            "75/75 [==============================] - 0s 4ms/step - loss: 0.0449 - accuracy: 0.9896 - val_loss: 0.0204 - val_accuracy: 0.9950\n"
          ]
        },
        {
          "output_type": "execute_result",
          "data": {
            "text/plain": [
              "<keras.callbacks.History at 0x7f9708167c70>"
            ]
          },
          "metadata": {},
          "execution_count": 15
        }
      ]
    },
    {
      "cell_type": "code",
      "source": [
        "# Evaluate the model\n",
        "_, train_accuracy = model.evaluate(x_train, y_train)\n",
        "_, test_accuracy = model.evaluate(x_test, y_test)\n"
      ],
      "metadata": {
        "id": "MOBtE1fW8nIb",
        "colab": {
          "base_uri": "https://localhost:8080/"
        },
        "outputId": "5bc77c8d-7be8-4fcc-d233-b9d150eab469"
      },
      "execution_count": 16,
      "outputs": [
        {
          "output_type": "stream",
          "name": "stdout",
          "text": [
            "75/75 [==============================] - 0s 2ms/step - loss: 0.0200 - accuracy: 0.9954\n",
            "19/19 [==============================] - 0s 2ms/step - loss: 0.0204 - accuracy: 0.9950\n"
          ]
        }
      ]
    },
    {
      "cell_type": "code",
      "source": [
        "print('Training Accuracy:', train_accuracy)\n",
        "print('Testing Accuracy:', test_accuracy)"
      ],
      "metadata": {
        "colab": {
          "base_uri": "https://localhost:8080/"
        },
        "id": "1T9t0317cNvs",
        "outputId": "94d9bdfe-cdd1-4053-b9d1-64407e8e7f47"
      },
      "execution_count": 17,
      "outputs": [
        {
          "output_type": "stream",
          "name": "stdout",
          "text": [
            "Training Accuracy: 0.9954166412353516\n",
            "Testing Accuracy: 0.9950000047683716\n"
          ]
        }
      ]
    },
    {
      "cell_type": "code",
      "source": [
        "# Make predictions\n",
        "y_pred = model.predict(x_test)\n",
        "y_pred = (y_pred > 0.5).astype(int)\n",
        "# Generate classification report\n",
        "report = classification_report(y_test, y_pred)\n",
        "print(report)"
      ],
      "metadata": {
        "colab": {
          "base_uri": "https://localhost:8080/"
        },
        "id": "2ICXrOPWcg6T",
        "outputId": "04488a32-0d46-4183-a524-cd134d3682f7"
      },
      "execution_count": 18,
      "outputs": [
        {
          "output_type": "stream",
          "name": "stdout",
          "text": [
            "19/19 [==============================] - 0s 4ms/step\n",
            "              precision    recall  f1-score   support\n",
            "\n",
            "           0       0.99      1.00      1.00       313\n",
            "           1       1.00      0.99      0.99       287\n",
            "\n",
            "    accuracy                           0.99       600\n",
            "   macro avg       1.00      0.99      0.99       600\n",
            "weighted avg       1.00      0.99      0.99       600\n",
            "\n"
          ]
        }
      ]
    },
    {
      "cell_type": "code",
      "source": [
        "# Use the age estimation model to predict ages for the generated samples\n",
        "generated_samples_pred = model.predict(generated_samples)"
      ],
      "metadata": {
        "colab": {
          "base_uri": "https://localhost:8080/"
        },
        "id": "wtLgIcR-cl1o",
        "outputId": "7720858c-2046-4c43-c597-cb40506d3dc4"
      },
      "execution_count": 19,
      "outputs": [
        {
          "output_type": "stream",
          "name": "stdout",
          "text": [
            "1/1 [==============================] - 0s 81ms/step\n"
          ]
        }
      ]
    },
    {
      "cell_type": "code",
      "source": [
        "generated_samples_pred =(generated_samples_pred > 0.5).astype(int)\n",
        "generated_samples_pred "
      ],
      "metadata": {
        "colab": {
          "base_uri": "https://localhost:8080/"
        },
        "id": "3zZl2PXTc7vt",
        "outputId": "4a915baa-67f4-448a-ebe6-de54759e138a"
      },
      "execution_count": 22,
      "outputs": [
        {
          "output_type": "execute_result",
          "data": {
            "text/plain": [
              "array([[0],\n",
              "       [1],\n",
              "       [0],\n",
              "       [0],\n",
              "       [0],\n",
              "       [0],\n",
              "       [0],\n",
              "       [0],\n",
              "       [0],\n",
              "       [1]])"
            ]
          },
          "metadata": {},
          "execution_count": 22
        }
      ]
    },
    {
      "cell_type": "code",
      "source": [],
      "metadata": {
        "id": "JAXXCKd5c_i9"
      },
      "execution_count": null,
      "outputs": []
    }
  ]
}